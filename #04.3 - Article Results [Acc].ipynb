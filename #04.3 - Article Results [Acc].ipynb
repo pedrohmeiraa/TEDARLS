{
 "cells": [
  {
   "cell_type": "markdown",
   "metadata": {
    "colab_type": "text",
    "id": "ofwtcgvWTtOW"
   },
   "source": [
    "# **Article Results - Accelerometer Dataset**"
   ]
  },
  {
   "cell_type": "markdown",
   "metadata": {},
   "source": [
    "The dataset analyzed (\"Acc.xlsx\") in this notebook is the same as presented in article \"**An Unsupervised TinyML Approach Applied for Pavement Anomalies Detection Under the Internet of Intelligent Vehicles**\" by the same authors. In the referenced [article](https://ieeexplore.ieee.org/document/9488546), the TEDA algorithm was implemented on an [Arduino Nano 33 IoT](https://store.arduino.cc/products/arduino-nano-33-iot) Platform for the purpose of detecting anomalies in pavements using the accelerometer signal from the Arduino. In the current article, we again applied TEDA, using Python, to the same dataset and, of course, found similar results. However, we went further and also applied the *TEDA RLS* algorithm to correct the identified outliers.\n",
    "\n",
    "- Dataset from: \n",
    "*P. Andrade* et al., \"**An Unsupervised TinyML Approach Applied for Pavement Anomalies Detection Under the Internet of Intelligent Vehicles**,\" 2021 IEEE International Workshop on Metrology for Industry 4.0 & IoT (MetroInd4.0&IoT), Rome, Italy, 2021, pp. 642-647, doi: 10.1109/MetroInd4.0IoT51437.2021.9488546."
   ]
  },
  {
   "cell_type": "markdown",
   "metadata": {
    "colab_type": "text",
    "id": "kPHjZ4iMUCjh"
   },
   "source": [
    "## 1. Modules import"
   ]
  },
  {
   "cell_type": "code",
   "execution_count": 1,
   "metadata": {
    "colab": {
     "base_uri": "https://localhost:8080/",
     "height": 71
    },
    "colab_type": "code",
    "executionInfo": {
     "elapsed": 3043,
     "status": "ok",
     "timestamp": 1594664992056,
     "user": {
      "displayName": "PEDRO ANDRADE",
      "photoUrl": "https://lh3.googleusercontent.com/a-/AOh14Gg7rX8Ay3ygspOgL2OSlmHq-_pe_-2BIgJmuTv5=s64",
      "userId": "01424737486386709382"
     },
     "user_tz": 180
    },
    "id": "kc6XdrfD9hd5",
    "outputId": "ffd7e1ee-f1d5-42a6-d770-a5e69e5d754c"
   },
   "outputs": [],
   "source": [
    "import numpy as np\n",
    "import pandas as pd\n",
    "import matplotlib.pyplot as plt\n",
    "import seaborn as sns\n",
    "import plotly.graph_objects as go\n",
    "from plotly.subplots import make_subplots\n",
    "import plotly.express as px\n"
   ]
  },
  {
   "cell_type": "markdown",
   "metadata": {},
   "source": [
    "#### Importing our modules:"
   ]
  },
  {
   "cell_type": "code",
   "execution_count": 2,
   "metadata": {
    "colab": {},
    "colab_type": "code",
    "id": "0XA-n1vBrxG3"
   },
   "outputs": [],
   "source": [
    "from teda import TEDA\n",
    "from RLSFilter import RLSFilter"
   ]
  },
  {
   "cell_type": "markdown",
   "metadata": {
    "colab_type": "text",
    "id": "s2f127LXUJQ5"
   },
   "source": [
    "## 2. Data import"
   ]
  },
  {
   "cell_type": "markdown",
   "metadata": {},
   "source": [
    "### 2.1 Arduino data:\n",
    "Here, we will import accelerometer data where the \"$A$\" column represents the total acceleration, and $Ax$, $Ay$, and $Az$ represent the 3-axis accelerations. The total acceleration ($A$) is calculated as follows:\n",
    "\n",
    "\\begin{align}\n",
    "A = \\sqrt{{A_x}^2 + {A_y}^2 + {A_z}^2}\n",
    "\\end{align}"
   ]
  },
  {
   "cell_type": "code",
   "execution_count": 3,
   "metadata": {},
   "outputs": [
    {
     "data": {
      "text/html": [
       "<div>\n",
       "<style scoped>\n",
       "    .dataframe tbody tr th:only-of-type {\n",
       "        vertical-align: middle;\n",
       "    }\n",
       "\n",
       "    .dataframe tbody tr th {\n",
       "        vertical-align: top;\n",
       "    }\n",
       "\n",
       "    .dataframe thead th {\n",
       "        text-align: right;\n",
       "    }\n",
       "</style>\n",
       "<table border=\"1\" class=\"dataframe\">\n",
       "  <thead>\n",
       "    <tr style=\"text-align: right;\">\n",
       "      <th></th>\n",
       "      <th>Latitude</th>\n",
       "      <th>Longitude</th>\n",
       "      <th>Gx</th>\n",
       "      <th>Gy</th>\n",
       "      <th>Gz</th>\n",
       "      <th>Data</th>\n",
       "      <th>Hora</th>\n",
       "      <th>Ax</th>\n",
       "      <th>Ay</th>\n",
       "      <th>Az</th>\n",
       "      <th>A</th>\n",
       "      <th>Flag</th>\n",
       "      <th>Label</th>\n",
       "    </tr>\n",
       "    <tr>\n",
       "      <th>Device Time</th>\n",
       "      <th></th>\n",
       "      <th></th>\n",
       "      <th></th>\n",
       "      <th></th>\n",
       "      <th></th>\n",
       "      <th></th>\n",
       "      <th></th>\n",
       "      <th></th>\n",
       "      <th></th>\n",
       "      <th></th>\n",
       "      <th></th>\n",
       "      <th></th>\n",
       "      <th></th>\n",
       "    </tr>\n",
       "  </thead>\n",
       "  <tbody>\n",
       "    <tr>\n",
       "      <th>12-Feb-2021 14:21:33.764</th>\n",
       "      <td>-5.831842</td>\n",
       "      <td>-35.205239</td>\n",
       "      <td>0.479096</td>\n",
       "      <td>5.731182</td>\n",
       "      <td>7.763746</td>\n",
       "      <td>12/02/2021</td>\n",
       "      <td>14:20:44</td>\n",
       "      <td>-0.36</td>\n",
       "      <td>0.18</td>\n",
       "      <td>0.88</td>\n",
       "      <td>0.97</td>\n",
       "      <td>0</td>\n",
       "      <td>0</td>\n",
       "    </tr>\n",
       "    <tr>\n",
       "      <th>12-Feb-2021 14:21:34.761</th>\n",
       "      <td>-5.831842</td>\n",
       "      <td>-35.205239</td>\n",
       "      <td>0.415616</td>\n",
       "      <td>4.307071</td>\n",
       "      <td>8.708762</td>\n",
       "      <td>12/02/2021</td>\n",
       "      <td>14:20:45</td>\n",
       "      <td>-0.33</td>\n",
       "      <td>0.27</td>\n",
       "      <td>0.85</td>\n",
       "      <td>0.95</td>\n",
       "      <td>0</td>\n",
       "      <td>0</td>\n",
       "    </tr>\n",
       "    <tr>\n",
       "      <th>12-Feb-2021 14:21:35.761</th>\n",
       "      <td>-5.831842</td>\n",
       "      <td>-35.205239</td>\n",
       "      <td>-0.213198</td>\n",
       "      <td>4.725081</td>\n",
       "      <td>8.572220</td>\n",
       "      <td>12/02/2021</td>\n",
       "      <td>14:20:46</td>\n",
       "      <td>-0.30</td>\n",
       "      <td>0.26</td>\n",
       "      <td>0.90</td>\n",
       "      <td>0.98</td>\n",
       "      <td>0</td>\n",
       "      <td>0</td>\n",
       "    </tr>\n",
       "    <tr>\n",
       "      <th>12-Feb-2021 14:21:36.766</th>\n",
       "      <td>-5.831842</td>\n",
       "      <td>-35.205239</td>\n",
       "      <td>-2.579930</td>\n",
       "      <td>1.064790</td>\n",
       "      <td>10.250253</td>\n",
       "      <td>12/02/2021</td>\n",
       "      <td>14:20:47</td>\n",
       "      <td>-0.25</td>\n",
       "      <td>0.26</td>\n",
       "      <td>0.92</td>\n",
       "      <td>0.99</td>\n",
       "      <td>0</td>\n",
       "      <td>0</td>\n",
       "    </tr>\n",
       "    <tr>\n",
       "      <th>12-Feb-2021 14:21:37.763</th>\n",
       "      <td>-5.831842</td>\n",
       "      <td>-35.205239</td>\n",
       "      <td>0.527005</td>\n",
       "      <td>-2.172699</td>\n",
       "      <td>8.755474</td>\n",
       "      <td>12/02/2021</td>\n",
       "      <td>14:20:48</td>\n",
       "      <td>-0.13</td>\n",
       "      <td>0.34</td>\n",
       "      <td>0.92</td>\n",
       "      <td>0.99</td>\n",
       "      <td>0</td>\n",
       "      <td>0</td>\n",
       "    </tr>\n",
       "  </tbody>\n",
       "</table>\n",
       "</div>"
      ],
      "text/plain": [
       "                          Latitude  Longitude        Gx        Gy         Gz  \\\n",
       " Device Time                                                                   \n",
       "12-Feb-2021 14:21:33.764 -5.831842 -35.205239  0.479096  5.731182   7.763746   \n",
       "12-Feb-2021 14:21:34.761 -5.831842 -35.205239  0.415616  4.307071   8.708762   \n",
       "12-Feb-2021 14:21:35.761 -5.831842 -35.205239 -0.213198  4.725081   8.572220   \n",
       "12-Feb-2021 14:21:36.766 -5.831842 -35.205239 -2.579930  1.064790  10.250253   \n",
       "12-Feb-2021 14:21:37.763 -5.831842 -35.205239  0.527005 -2.172699   8.755474   \n",
       "\n",
       "                                 Data       Hora    Ax    Ay    Az     A  \\\n",
       " Device Time                                                               \n",
       "12-Feb-2021 14:21:33.764   12/02/2021   14:20:44 -0.36  0.18  0.88  0.97   \n",
       "12-Feb-2021 14:21:34.761   12/02/2021   14:20:45 -0.33  0.27  0.85  0.95   \n",
       "12-Feb-2021 14:21:35.761   12/02/2021   14:20:46 -0.30  0.26  0.90  0.98   \n",
       "12-Feb-2021 14:21:36.766   12/02/2021   14:20:47 -0.25  0.26  0.92  0.99   \n",
       "12-Feb-2021 14:21:37.763   12/02/2021   14:20:48 -0.13  0.34  0.92  0.99   \n",
       "\n",
       "                          Flag  Label  \n",
       " Device Time                           \n",
       "12-Feb-2021 14:21:33.764     0      0  \n",
       "12-Feb-2021 14:21:34.761     0      0  \n",
       "12-Feb-2021 14:21:35.761     0      0  \n",
       "12-Feb-2021 14:21:36.766     0      0  \n",
       "12-Feb-2021 14:21:37.763     0      0  "
      ]
     },
     "execution_count": 3,
     "metadata": {},
     "output_type": "execute_result"
    }
   ],
   "source": [
    "data_acc = pd.read_excel(\"Acc.xlsx\", index_col=0)\n",
    "data_acc.head()"
   ]
  },
  {
   "cell_type": "markdown",
   "metadata": {},
   "source": [
    "## 3. Running on Python:"
   ]
  },
  {
   "cell_type": "markdown",
   "metadata": {},
   "source": [
    "### Defining algorithm instances:"
   ]
  },
  {
   "cell_type": "code",
   "execution_count": 4,
   "metadata": {},
   "outputs": [],
   "source": [
    "#TEDA\n",
    "teda = TEDA(threshold=2.3)\n",
    "FLAG = []\n",
    "\n",
    "#RLS\n",
    "filter_order = 2                    #filter_order equivalent to window size\n",
    "forgetting_factor = 0.99            #Forgetting factor: It is introduced to give exponentially less weight to older error samples. It is usually chosen between 0.98 and 1.\n",
    "regularization_factor = 0.1         #It is usually chose between 0.1 and 1.\n",
    "w0 = [0.0, 0.0]                     #Initial weights\n",
    "X_ant = [0.0, 0.0]                  #Initial previous input\n",
    "rls_filter = RLSFilter(n = filter_order, mu = forgetting_factor, delta=regularization_factor, w=w0) #Defining the filter instance\n",
    "y_pred_py = 0.0                     #Initial predicted value"
   ]
  },
  {
   "cell_type": "markdown",
   "metadata": {},
   "source": [
    "#### Defining auxiliary variables:"
   ]
  },
  {
   "cell_type": "code",
   "execution_count": 5,
   "metadata": {},
   "outputs": [],
   "source": [
    "Ya_py = []\n",
    "Y_py = []\n",
    "DB = []\n",
    "outlier_count = 0\n",
    "N_outlier_max = 2"
   ]
  },
  {
   "cell_type": "markdown",
   "metadata": {},
   "source": [
    "### Running:"
   ]
  },
  {
   "cell_type": "code",
   "execution_count": 6,
   "metadata": {},
   "outputs": [],
   "source": [
    "for A in data_acc['A']:\n",
    "    ## Acquiring the data input\n",
    "    valor_atual = A\n",
    "\n",
    "    #Checking if it is an outlier\n",
    "    flag = teda.run(valor_atual)\n",
    "    FLAG.append(flag)\n",
    "\n",
    "    ## Correcting outlier\n",
    "    if (flag == 1):\n",
    "        outlier_count = outlier_count + 1\n",
    "        valor_atual = y_pred_py\n",
    "    else:\n",
    "        outlier_count = 0\n",
    "    \n",
    "    #Evaluating the flood of outliers\n",
    "    if(outlier_count == N_outlier_max + 1):\n",
    "        outlier_count = 0\n",
    "        valor_atual = A\n",
    "    #Saving \n",
    "    Ya_py.append(y_pred_py)\n",
    "\n",
    "    # Updating weights\n",
    "    rls_filter.update(valor_atual, np.array(X_ant))\n",
    "    input_vector = []\n",
    "    for j in X_ant[1:]:\n",
    "        input_vector.append(j)\n",
    "    input_vector.append(valor_atual)\n",
    "\n",
    "    #Predicting the next value\n",
    "    y_pred_py = rls_filter.filter(input_vector)\n",
    "    Y_py.append(y_pred_py)\n",
    "\n",
    "    # Second stage\n",
    "    if (flag == 1):\n",
    "        outlier_count = outlier_count + 1\n",
    "        valor_atual = y_pred_py\n",
    "    else:\n",
    "        outlier_count = 0\n",
    "    if(outlier_count == N_outlier_max + 1):\n",
    "        outlier_count = 0\n",
    "        valor_atual = A\n",
    "    DB.append(valor_atual)\n",
    "\n",
    "    #Updating previous values vector\n",
    "    X_ant = input_vector\n",
    "\n",
    "data_acc['flag_py'] = FLAG\n",
    "data_acc['save_py'] = DB\n",
    "data_acc['ya_pred_py'] = Ya_py\n",
    "data_acc['y_pred_py'] = Y_py"
   ]
  },
  {
   "cell_type": "markdown",
   "metadata": {},
   "source": [
    "## 4. Visualization:"
   ]
  },
  {
   "cell_type": "markdown",
   "metadata": {},
   "source": [
    "### 4.1 TEDA"
   ]
  },
  {
   "cell_type": "code",
   "execution_count": 7,
   "metadata": {},
   "outputs": [],
   "source": [
    "def find_indices(list_to_check, item_to_find):\n",
    "    indices = []\n",
    "    for idx, value in enumerate(list_to_check):\n",
    "        if value == item_to_find:\n",
    "            indices.append(idx)\n",
    "    return indices"
   ]
  },
  {
   "cell_type": "code",
   "execution_count": 8,
   "metadata": {},
   "outputs": [
    {
     "data": {
      "text/plain": [
       "9"
      ]
     },
     "execution_count": 8,
     "metadata": {},
     "output_type": "execute_result"
    }
   ],
   "source": [
    "numberOfOutliersPython = data_acc['flag_py'].sum()\n",
    "numberOfOutliersPython"
   ]
  },
  {
   "cell_type": "code",
   "execution_count": 9,
   "metadata": {},
   "outputs": [
    {
     "data": {
      "text/plain": [
       "[15, 49, 86, 193, 198, 217, 242, 282, 306]"
      ]
     },
     "execution_count": 9,
     "metadata": {},
     "output_type": "execute_result"
    }
   ],
   "source": [
    "outliersIndexPython = find_indices(data_acc['flag_py'], 1)\n",
    "outliersIndexPython"
   ]
  },
  {
   "cell_type": "markdown",
   "metadata": {},
   "source": [
    "#### Time stamp in minutes:"
   ]
  },
  {
   "cell_type": "code",
   "execution_count": 10,
   "metadata": {},
   "outputs": [],
   "source": [
    "ts = np.linspace(0, len(data_acc)/60, len(data_acc))"
   ]
  },
  {
   "cell_type": "markdown",
   "metadata": {},
   "source": [
    "### TEDA Chart"
   ]
  },
  {
   "cell_type": "code",
   "execution_count": 11,
   "metadata": {},
   "outputs": [
    {
     "name": "stderr",
     "output_type": "stream",
     "text": [
      "The PostScript backend does not support transparency; partially transparent artists will be rendered opaque.\n"
     ]
    },
    {
     "data": {
      "image/png": "[encoded data removed]",
      "text/plain": [
       "<Figure size 1440x720 with 1 Axes>"
      ]
     },
     "metadata": {
      "needs_background": "light"
     },
     "output_type": "display_data"
    }
   ],
   "source": [
    "plt.figure(figsize=(20,10))\n",
    "plt.grid()\n",
    "plt.title(\"Python - Acc Curve with Outliers Detected\", fontsize=20)\n",
    "sns.scatterplot(x=ts, y=data_acc['A'], hue=data_acc['flag_py'], style=data_acc['flag_py'], size=data_acc['flag_py'], sizes=(250, 200))\n",
    "plt.legend(fontsize=16)\n",
    "plt.ylabel(\"Acc (m/s2)\", fontsize=16)\n",
    "plt.xlabel(\"Time (minutes)\", fontsize=16)\n",
    "plt.xticks(fontsize=15)\n",
    "plt.yticks(fontsize=15)\n",
    "#plt.show()\n",
    "\n",
    "plt.savefig(\"C:/Users/Samsung/Desktop/Pedro/UFRN/Portfolio/Publicados/TEDA RLS/Python/figures/Acc/results_acc_curves_teda.eps\", dpi=600, bbox_inches='tight')"
   ]
  },
  {
   "cell_type": "markdown",
   "metadata": {},
   "source": [
    "### 4.2 RLS"
   ]
  },
  {
   "cell_type": "code",
   "execution_count": 12,
   "metadata": {},
   "outputs": [
    {
     "data": {
      "application/vnd.plotly.v1+json": {
       "config": {
        "plotlyServerURL": "https://plot.ly"
       },
       "data": [
        {
         "name": "True",
         "type": "scatter",
         "x": [
          0,
          0.01671195652173913,
          0.03342391304347826,
          0.05013586956521739,
          0.06684782608695652,
          0.08355978260869565,
          0.10027173913043479,
          0.11698369565217392,
          0.13369565217391305,
          0.15040760869565217,
          0.1671195652173913,
          0.18383152173913045,
          0.20054347826086957,
          0.2172554347826087,
          0.23396739130434785,
          0.250679347826087,
          0.2673913043478261,
          0.2841032608695652,
          0.30081521739130435,
          0.31752717391304347,
          0.3342391304347826,
          0.3509510869565218,
          0.3676630434782609,
          0.384375,
          0.40108695652173915,
          0.41779891304347827,
          0.4345108695652174,
          0.4512228260869565,
          0.4679347826086957,
          0.4846467391304348,
          0.501358695652174,
          0.518070652173913,
          0.5347826086956522,
          0.5514945652173914,
          0.5682065217391304,
          0.5849184782608696,
          0.6016304347826087,
          0.6183423913043479,
          0.6350543478260869,
          0.6517663043478261,
          0.6684782608695652,
          0.6851902173913044,
          0.7019021739130435,
          0.7186141304347826,
          0.7353260869565218,
          0.7520380434782609,
          0.76875,
          0.7854619565217391,
          0.8021739130434783,
          0.8188858695652175,
          0.8355978260869565,
          0.8523097826086957,
          0.8690217391304348,
          0.885733695652174,
          0.902445652173913,
          0.9191576086956522,
          0.9358695652173914,
          0.9525815217391305,
          0.9692934782608696,
          0.9860054347826087,
          1.002717391304348,
          1.019429347826087,
          1.036141304347826,
          1.0528532608695653,
          1.0695652173913044,
          1.0862771739130435,
          1.1029891304347827,
          1.1197010869565218,
          1.1364130434782609,
          1.153125,
          1.1698369565217392,
          1.1865489130434783,
          1.2032608695652174,
          1.2199728260869567,
          1.2366847826086957,
          1.2533967391304348,
          1.2701086956521739,
          1.2868206521739132,
          1.3035326086956522,
          1.3202445652173913,
          1.3369565217391304,
          1.3536684782608697,
          1.3703804347826087,
          1.3870923913043478,
          1.403804347826087,
          1.4205163043478262,
          1.4372282608695652,
          1.4539402173913043,
          1.4706521739130436,
          1.4873641304347827,
          1.5040760869565217,
          1.520788043478261,
          1.5375,
          1.5542119565217392,
          1.5709239130434782,
          1.5876358695652175,
          1.6043478260869566,
          1.6210597826086957,
          1.637771739130435,
          1.654483695652174,
          1.671195652173913,
          1.6879076086956522,
          1.7046195652173914,
          1.7213315217391305,
          1.7380434782608696,
          1.7547554347826089,
          1.771467391304348,
          1.788179347826087,
          1.804891304347826,
          1.8216032608695654,
          1.8383152173913044,
          1.8550271739130435,
          1.8717391304347828,
          1.8884510869565219,
          1.905163043478261,
          1.921875,
          1.9385869565217393,
          1.9552989130434784,
          1.9720108695652174,
          1.9887228260869565,
          2.005434782608696,
          2.022146739130435,
          2.038858695652174,
          2.055570652173913,
          2.072282608695652,
          2.0889945652173916,
          2.1057065217391306,
          2.1224184782608697,
          2.139130434782609,
          2.155842391304348,
          2.172554347826087,
          2.189266304347826,
          2.2059782608695655,
          2.2226902173913046,
          2.2394021739130436,
          2.2561141304347827,
          2.2728260869565218,
          2.289538043478261,
          2.30625,
          2.3229619565217394,
          2.3396739130434785,
          2.3563858695652176,
          2.3730978260869566,
          2.3898097826086957,
          2.4065217391304348,
          2.423233695652174,
          2.4399456521739133,
          2.4566576086956524,
          2.4733695652173915,
          2.4900815217391306,
          2.5067934782608696,
          2.5235054347826087,
          2.5402173913043478,
          2.5569293478260873,
          2.5736413043478263,
          2.5903532608695654,
          2.6070652173913045,
          2.6237771739130435,
          2.6404891304347826,
          2.6572010869565217,
          2.6739130434782608,
          2.6906250000000003,
          2.7073369565217393,
          2.7240489130434784,
          2.7407608695652175,
          2.7574728260869565,
          2.7741847826086956,
          2.7908967391304347,
          2.807608695652174,
          2.8243206521739133,
          2.8410326086956523,
          2.8577445652173914,
          2.8744565217391305,
          2.8911684782608695,
          2.9078804347826086,
          2.924592391304348,
          2.941304347826087,
          2.9580163043478263,
          2.9747282608695653,
          2.9914402173913044,
          3.0081521739130435,
          3.0248641304347825,
          3.041576086956522,
          3.058288043478261,
          3.075,
          3.0917119565217392,
          3.1084239130434783,
          3.1251358695652174,
          3.1418478260869565,
          3.158559782608696,
          3.175271739130435,
          3.191983695652174,
          3.208695652173913,
          3.2254076086956522,
          3.2421195652173913,
          3.2588315217391304,
          3.27554347826087,
          3.292255434782609,
          3.308967391304348,
          3.325679347826087,
          3.342391304347826,
          3.3591032608695652,
          3.3758152173913043,
          3.392527173913044,
          3.409239130434783,
          3.425951086956522,
          3.442663043478261,
          3.459375,
          3.476086956521739,
          3.4927989130434782,
          3.5095108695652177,
          3.526222826086957,
          3.542934782608696,
          3.559646739130435,
          3.576358695652174,
          3.593070652173913,
          3.609782608695652,
          3.6264945652173917,
          3.6432065217391307,
          3.65991847826087,
          3.676630434782609,
          3.693342391304348,
          3.710054347826087,
          3.726766304347826,
          3.7434782608695656,
          3.7601902173913047,
          3.7769021739130437,
          3.793614130434783,
          3.810326086956522,
          3.827038043478261,
          3.84375,
          3.860461956521739,
          3.8771739130434786,
          3.8938858695652177,
          3.9105978260869567,
          3.927309782608696,
          3.944021739130435,
          3.960733695652174,
          3.977445652173913,
          3.9941576086956525,
          4.010869565217392,
          4.027581521739131,
          4.04429347826087,
          4.061005434782609,
          4.077717391304348,
          4.094429347826087,
          4.111141304347826,
          4.127853260869565,
          4.144565217391304,
          4.161277173913044,
          4.177989130434783,
          4.194701086956522,
          4.211413043478261,
          4.228125,
          4.244836956521739,
          4.2615489130434785,
          4.278260869565218,
          4.294972826086957,
          4.311684782608696,
          4.328396739130435,
          4.345108695652174,
          4.361820652173913,
          4.378532608695652,
          4.395244565217391,
          4.411956521739131,
          4.42866847826087,
          4.445380434782609,
          4.462092391304348,
          4.478804347826087,
          4.495516304347826,
          4.512228260869565,
          4.5289402173913045,
          4.5456521739130435,
          4.562364130434783,
          4.579076086956522,
          4.595788043478261,
          4.6125,
          4.629211956521739,
          4.645923913043479,
          4.662635869565218,
          4.679347826086957,
          4.696059782608696,
          4.712771739130435,
          4.729483695652174,
          4.746195652173913,
          4.762907608695652,
          4.779619565217391,
          4.7963315217391305,
          4.8130434782608695,
          4.829755434782609,
          4.846467391304348,
          4.863179347826087,
          4.879891304347827,
          4.896603260869566,
          4.913315217391305,
          4.930027173913044,
          4.946739130434783,
          4.963451086956522,
          4.980163043478261,
          4.996875,
          5.013586956521739,
          5.030298913043478,
          5.047010869565217,
          5.0637228260869565,
          5.0804347826086955,
          5.097146739130435,
          5.1138586956521745,
          5.130570652173914,
          5.147282608695653,
          5.163994565217392,
          5.180706521739131,
          5.19741847826087,
          5.214130434782609,
          5.230842391304348,
          5.247554347826087,
          5.264266304347826,
          5.280978260869565,
          5.297690217391304,
          5.314402173913043,
          5.331114130434782,
          5.3478260869565215,
          5.3645380434782615,
          5.3812500000000005,
          5.39796195652174,
          5.414673913043479,
          5.431385869565218,
          5.448097826086957,
          5.464809782608696,
          5.481521739130435,
          5.498233695652174,
          5.514945652173913,
          5.531657608695652,
          5.548369565217391,
          5.56508152173913,
          5.581793478260869,
          5.598505434782609,
          5.615217391304348,
          5.6319293478260875,
          5.6486413043478265,
          5.665353260869566,
          5.682065217391305,
          5.698777173913044,
          5.715489130434783,
          5.732201086956522,
          5.748913043478261,
          5.765625,
          5.782336956521739,
          5.799048913043478,
          5.815760869565217,
          5.832472826086957,
          5.849184782608696,
          5.865896739130435,
          5.882608695652174,
          5.899320652173913,
          5.9160326086956525,
          5.932744565217392,
          5.949456521739131,
          5.96616847826087,
          5.982880434782609,
          5.999592391304348,
          6.016304347826087,
          6.033016304347826,
          6.049728260869565,
          6.066440217391305,
          6.083152173913044,
          6.099864130434783,
          6.116576086956522,
          6.133288043478261,
          6.15
         ],
         "xaxis": "x",
         "y": [
          0.97,
          0.95,
          0.98,
          0.99,
          0.99,
          0.98,
          0.92,
          0.99,
          0.99,
          1.01,
          1.02,
          0.97,
          1.03,
          0.98,
          1,
          0.49,
          0.97,
          0.89,
          0.94,
          0.94,
          0.91,
          0.98,
          0.91,
          0.93,
          0.91,
          1.01,
          0.93,
          0.91,
          1.1,
          0.99,
          0.87,
          0.95,
          1.03,
          0.99,
          1.16,
          0.92,
          0.99,
          0.99,
          0.92,
          1.01,
          0.92,
          1.02,
          1.05,
          0.95,
          1.01,
          1.01,
          1.03,
          1.03,
          1,
          0.27,
          1.01,
          0.96,
          0.95,
          1.01,
          0.97,
          0.94,
          0.93,
          0.99,
          0.9,
          1.01,
          0.92,
          0.96,
          0.96,
          1.01,
          0.89,
          0.91,
          0.92,
          1.01,
          0.96,
          0.96,
          0.91,
          0.94,
          0.93,
          0.91,
          1.03,
          0.94,
          1,
          0.96,
          0.85,
          1.01,
          0.9,
          0.98,
          1.03,
          1.04,
          0.97,
          0.97,
          2.08,
          0.92,
          1.03,
          1.03,
          1.14,
          0.95,
          0.99,
          0.99,
          1.03,
          1.01,
          0.9,
          1.01,
          0.9,
          1.03,
          1.03,
          0.94,
          0.92,
          0.98,
          0.95,
          0.93,
          1.11,
          1.07,
          0.95,
          0.82,
          1.1,
          1,
          0.91,
          0.99,
          0.96,
          0.95,
          0.9,
          0.99,
          0.98,
          0.99,
          1.03,
          0.98,
          0.95,
          1.03,
          0.91,
          0.96,
          0.94,
          0.97,
          0.94,
          0.9,
          1.01,
          0.93,
          1.12,
          1.01,
          0.98,
          0.92,
          1.03,
          0.96,
          1.01,
          0.88,
          0.96,
          0.95,
          0.98,
          1.02,
          0.86,
          0.89,
          0.89,
          0.95,
          1.01,
          1.06,
          0.96,
          0.97,
          1.02,
          1.01,
          0.98,
          0.99,
          0.98,
          0.96,
          0.99,
          1.02,
          1.02,
          1.01,
          0.97,
          1.01,
          1.04,
          1,
          1.01,
          0.96,
          1,
          0.96,
          0.97,
          1.02,
          1.02,
          0.97,
          1.04,
          0.98,
          0.92,
          1.08,
          1.04,
          0.97,
          0.95,
          1.02,
          0.99,
          1,
          0.98,
          0.98,
          1,
          0.95,
          1.01,
          1.04,
          0.94,
          0.97,
          1,
          0.23,
          1.13,
          0.97,
          0.96,
          0.96,
          0.66,
          0.94,
          0.99,
          0.99,
          1.01,
          1.02,
          1.03,
          0.88,
          1,
          0.93,
          0.99,
          0.96,
          0.95,
          1.06,
          0.99,
          1.07,
          1.03,
          1.02,
          1.01,
          0.38,
          0.9,
          0.98,
          1,
          0.95,
          0.95,
          1.02,
          0.98,
          0.99,
          1.04,
          0.8,
          0.97,
          0.91,
          1.07,
          0.88,
          1,
          1,
          0.97,
          0.93,
          0.94,
          0.94,
          0.98,
          0.94,
          0.93,
          1.05,
          0.67,
          0.83,
          0.98,
          0.88,
          1,
          1.01,
          0.93,
          0.98,
          1.02,
          0.95,
          1.02,
          1.02,
          0.94,
          1.09,
          1,
          1.06,
          0.93,
          1.01,
          1.02,
          0.97,
          0.98,
          1,
          0.96,
          0.92,
          0.98,
          0.95,
          0.96,
          0.93,
          1.03,
          0.85,
          1.01,
          0.87,
          0.99,
          0.98,
          1.04,
          0.91,
          0.96,
          0.93,
          1.09,
          1.05,
          1.56,
          0.95,
          0.98,
          0.96,
          0.96,
          0.99,
          0.96,
          0.93,
          1.04,
          0.98,
          1.02,
          1.06,
          0.99,
          1.03,
          0.98,
          1.02,
          0.99,
          0.94,
          0.97,
          0.97,
          0.98,
          1,
          0.99,
          1.02,
          0.6,
          1.04,
          1.08,
          0.95,
          0.95,
          1.02,
          1.04,
          0.97,
          1.06,
          1.06,
          1.04,
          0.96,
          0.86,
          1.01,
          1.06,
          0.99,
          0.96,
          1,
          0.84,
          1.14,
          1.01,
          1.01,
          0.96,
          0.96,
          1.01,
          1,
          0.99,
          0.9,
          1.02,
          0.97,
          1.02,
          0.96,
          0.95,
          0.97,
          1,
          0.94,
          0.97,
          1.01,
          0.99,
          1.02,
          0.99,
          0.94,
          1.01,
          0.94,
          0.98,
          0.9,
          1.01,
          0.91,
          0.9,
          1,
          1.01,
          0.96,
          1,
          0.93,
          0.99,
          0.93,
          0.97,
          0.96,
          0.97,
          0.95,
          0.99,
          0.96,
          0.95
         ],
         "yaxis": "y"
        },
        {
         "name": "Predicted",
         "type": "scatter",
         "x": [
          0,
          0.01671195652173913,
          0.03342391304347826,
          0.05013586956521739,
          0.06684782608695652,
          0.08355978260869565,
          0.10027173913043479,
          0.11698369565217392,
          0.13369565217391305,
          0.15040760869565217,
          0.1671195652173913,
          0.18383152173913045,
          0.20054347826086957,
          0.2172554347826087,
          0.23396739130434785,
          0.250679347826087,
          0.2673913043478261,
          0.2841032608695652,
          0.30081521739130435,
          0.31752717391304347,
          0.3342391304347826,
          0.3509510869565218,
          0.3676630434782609,
          0.384375,
          0.40108695652173915,
          0.41779891304347827,
          0.4345108695652174,
          0.4512228260869565,
          0.4679347826086957,
          0.4846467391304348,
          0.501358695652174,
          0.518070652173913,
          0.5347826086956522,
          0.5514945652173914,
          0.5682065217391304,
          0.5849184782608696,
          0.6016304347826087,
          0.6183423913043479,
          0.6350543478260869,
          0.6517663043478261,
          0.6684782608695652,
          0.6851902173913044,
          0.7019021739130435,
          0.7186141304347826,
          0.7353260869565218,
          0.7520380434782609,
          0.76875,
          0.7854619565217391,
          0.8021739130434783,
          0.8188858695652175,
          0.8355978260869565,
          0.8523097826086957,
          0.8690217391304348,
          0.885733695652174,
          0.902445652173913,
          0.9191576086956522,
          0.9358695652173914,
          0.9525815217391305,
          0.9692934782608696,
          0.9860054347826087,
          1.002717391304348,
          1.019429347826087,
          1.036141304347826,
          1.0528532608695653,
          1.0695652173913044,
          1.0862771739130435,
          1.1029891304347827,
          1.1197010869565218,
          1.1364130434782609,
          1.153125,
          1.1698369565217392,
          1.1865489130434783,
          1.2032608695652174,
          1.2199728260869567,
          1.2366847826086957,
          1.2533967391304348,
          1.2701086956521739,
          1.2868206521739132,
          1.3035326086956522,
          1.3202445652173913,
          1.3369565217391304,
          1.3536684782608697,
          1.3703804347826087,
          1.3870923913043478,
          1.403804347826087,
          1.4205163043478262,
          1.4372282608695652,
          1.4539402173913043,
          1.4706521739130436,
          1.4873641304347827,
          1.5040760869565217,
          1.520788043478261,
          1.5375,
          1.5542119565217392,
          1.5709239130434782,
          1.5876358695652175,
          1.6043478260869566,
          1.6210597826086957,
          1.637771739130435,
          1.654483695652174,
          1.671195652173913,
          1.6879076086956522,
          1.7046195652173914,
          1.7213315217391305,
          1.7380434782608696,
          1.7547554347826089,
          1.771467391304348,
          1.788179347826087,
          1.804891304347826,
          1.8216032608695654,
          1.8383152173913044,
          1.8550271739130435,
          1.8717391304347828,
          1.8884510869565219,
          1.905163043478261,
          1.921875,
          1.9385869565217393,
          1.9552989130434784,
          1.9720108695652174,
          1.9887228260869565,
          2.005434782608696,
          2.022146739130435,
          2.038858695652174,
          2.055570652173913,
          2.072282608695652,
          2.0889945652173916,
          2.1057065217391306,
          2.1224184782608697,
          2.139130434782609,
          2.155842391304348,
          2.172554347826087,
          2.189266304347826,
          2.2059782608695655,
          2.2226902173913046,
          2.2394021739130436,
          2.2561141304347827,
          2.2728260869565218,
          2.289538043478261,
          2.30625,
          2.3229619565217394,
          2.3396739130434785,
          2.3563858695652176,
          2.3730978260869566,
          2.3898097826086957,
          2.4065217391304348,
          2.423233695652174,
          2.4399456521739133,
          2.4566576086956524,
          2.4733695652173915,
          2.4900815217391306,
          2.5067934782608696,
          2.5235054347826087,
          2.5402173913043478,
          2.5569293478260873,
          2.5736413043478263,
          2.5903532608695654,
          2.6070652173913045,
          2.6237771739130435,
          2.6404891304347826,
          2.6572010869565217,
          2.6739130434782608,
          2.6906250000000003,
          2.7073369565217393,
          2.7240489130434784,
          2.7407608695652175,
          2.7574728260869565,
          2.7741847826086956,
          2.7908967391304347,
          2.807608695652174,
          2.8243206521739133,
          2.8410326086956523,
          2.8577445652173914,
          2.8744565217391305,
          2.8911684782608695,
          2.9078804347826086,
          2.924592391304348,
          2.941304347826087,
          2.9580163043478263,
          2.9747282608695653,
          2.9914402173913044,
          3.0081521739130435,
          3.0248641304347825,
          3.041576086956522,
          3.058288043478261,
          3.075,
          3.0917119565217392,
          3.1084239130434783,
          3.1251358695652174,
          3.1418478260869565,
          3.158559782608696,
          3.175271739130435,
          3.191983695652174,
          3.208695652173913,
          3.2254076086956522,
          3.2421195652173913,
          3.2588315217391304,
          3.27554347826087,
          3.292255434782609,
          3.308967391304348,
          3.325679347826087,
          3.342391304347826,
          3.3591032608695652,
          3.3758152173913043,
          3.392527173913044,
          3.409239130434783,
          3.425951086956522,
          3.442663043478261,
          3.459375,
          3.476086956521739,
          3.4927989130434782,
          3.5095108695652177,
          3.526222826086957,
          3.542934782608696,
          3.559646739130435,
          3.576358695652174,
          3.593070652173913,
          3.609782608695652,
          3.6264945652173917,
          3.6432065217391307,
          3.65991847826087,
          3.676630434782609,
          3.693342391304348,
          3.710054347826087,
          3.726766304347826,
          3.7434782608695656,
          3.7601902173913047,
          3.7769021739130437,
          3.793614130434783,
          3.810326086956522,
          3.827038043478261,
          3.84375,
          3.860461956521739,
          3.8771739130434786,
          3.8938858695652177,
          3.9105978260869567,
          3.927309782608696,
          3.944021739130435,
          3.960733695652174,
          3.977445652173913,
          3.9941576086956525,
          4.010869565217392,
          4.027581521739131,
          4.04429347826087,
          4.061005434782609,
          4.077717391304348,
          4.094429347826087,
          4.111141304347826,
          4.127853260869565,
          4.144565217391304,
          4.161277173913044,
          4.177989130434783,
          4.194701086956522,
          4.211413043478261,
          4.228125,
          4.244836956521739,
          4.2615489130434785,
          4.278260869565218,
          4.294972826086957,
          4.311684782608696,
          4.328396739130435,
          4.345108695652174,
          4.361820652173913,
          4.378532608695652,
          4.395244565217391,
          4.411956521739131,
          4.42866847826087,
          4.445380434782609,
          4.462092391304348,
          4.478804347826087,
          4.495516304347826,
          4.512228260869565,
          4.5289402173913045,
          4.5456521739130435,
          4.562364130434783,
          4.579076086956522,
          4.595788043478261,
          4.6125,
          4.629211956521739,
          4.645923913043479,
          4.662635869565218,
          4.679347826086957,
          4.696059782608696,
          4.712771739130435,
          4.729483695652174,
          4.746195652173913,
          4.762907608695652,
          4.779619565217391,
          4.7963315217391305,
          4.8130434782608695,
          4.829755434782609,
          4.846467391304348,
          4.863179347826087,
          4.879891304347827,
          4.896603260869566,
          4.913315217391305,
          4.930027173913044,
          4.946739130434783,
          4.963451086956522,
          4.980163043478261,
          4.996875,
          5.013586956521739,
          5.030298913043478,
          5.047010869565217,
          5.0637228260869565,
          5.0804347826086955,
          5.097146739130435,
          5.1138586956521745,
          5.130570652173914,
          5.147282608695653,
          5.163994565217392,
          5.180706521739131,
          5.19741847826087,
          5.214130434782609,
          5.230842391304348,
          5.247554347826087,
          5.264266304347826,
          5.280978260869565,
          5.297690217391304,
          5.314402173913043,
          5.331114130434782,
          5.3478260869565215,
          5.3645380434782615,
          5.3812500000000005,
          5.39796195652174,
          5.414673913043479,
          5.431385869565218,
          5.448097826086957,
          5.464809782608696,
          5.481521739130435,
          5.498233695652174,
          5.514945652173913,
          5.531657608695652,
          5.548369565217391,
          5.56508152173913,
          5.581793478260869,
          5.598505434782609,
          5.615217391304348,
          5.6319293478260875,
          5.6486413043478265,
          5.665353260869566,
          5.682065217391305,
          5.698777173913044,
          5.715489130434783,
          5.732201086956522,
          5.748913043478261,
          5.765625,
          5.782336956521739,
          5.799048913043478,
          5.815760869565217,
          5.832472826086957,
          5.849184782608696,
          5.865896739130435,
          5.882608695652174,
          5.899320652173913,
          5.9160326086956525,
          5.932744565217392,
          5.949456521739131,
          5.96616847826087,
          5.982880434782609,
          5.999592391304348,
          6.016304347826087,
          6.033016304347826,
          6.049728260869565,
          6.066440217391305,
          6.083152173913044,
          6.099864130434783,
          6.116576086956522,
          6.133288043478261,
          6.15
         ],
         "xaxis": "x",
         "y": [
          0,
          0.8426379570896418,
          0.9578514044523233,
          0.9815550776958608,
          0.9845795673421636,
          0.9741241588757271,
          0.9074079211293886,
          0.9823529464766719,
          0.9872638899128485,
          1.0089847560303558,
          1.020840283245086,
          0.9689174604198041,
          1.0283795223074794,
          0.9804262539331425,
          0.998037668242231,
          0.9973240867362673,
          0.9688803991644686,
          0.8871517937832134,
          0.9327182342783348,
          0.9358432835524683,
          0.9063054288512178,
          0.9741038756323669,
          0.9090149933760937,
          0.9249424454921599,
          0.9065964872489258,
          1.0039859720119872,
          0.9310577407967678,
          0.9069338761838881,
          1.0924068027484828,
          0.9951887774272037,
          0.8708407656342758,
          0.9421578241191747,
          1.0249982990592565,
          0.9905585831602541,
          1.15519019307449,
          0.929279299717327,
          0.9837755102885676,
          0.987968181365163,
          0.9199598204715433,
          1.0033300450188352,
          0.9213173699909848,
          1.0131311918017207,
          1.048288312188393,
          0.9527965521318925,
          1.0051828307843653,
          1.0087825762639282,
          1.0282261948200322,
          1.0294394461504242,
          1.0003548254962888,
          0.9989586497555766,
          1.008348590853014,
          0.9606051617056597,
          0.9480854329123193,
          1.005400965179818,
          0.9703695473432735,
          0.9391490930925352,
          0.9278378577534078,
          0.9850187852166536,
          0.9019696274986042,
          1.0025366769921324,
          0.9224570027500124,
          0.9557039566627081,
          0.9580914213876334,
          1.006217511626338,
          0.8937879170715127,
          0.9060645840190604,
          0.9168543762209598,
          1.0038077444496292,
          0.961097176971557,
          0.9581925479412572,
          0.9102614427996258,
          0.9361381189863204,
          0.9283494330166651,
          0.9086480233106045,
          1.0225079174319616,
          0.9432241542408073,
          0.9955382022859717,
          0.9607286641232085,
          0.8530336037348598,
          0.9996591485288345,
          0.9037928447140363,
          0.9739676532005053,
          1.0266524567925097,
          1.0392565374030476,
          0.9726217964905833,
          0.9685072713000148,
          0.9671035329375429,
          0.9206140317442093,
          1.0230385919607288,
          1.0296128729274017,
          1.1353194423363797,
          0.9592199045759159,
          0.9863468813485221,
          0.9887404721738815,
          1.0270678241512525,
          1.0102999184813066,
          0.9038374066441706,
          1.002493993792985,
          0.9039131913017672,
          1.0216442455739252,
          1.0294241739262326,
          0.943273570401595,
          0.9188992771359924,
          0.9750022500474226,
          0.9499278923864127,
          0.9290920360943444,
          1.0998796795396228,
          1.072396061712631,
          0.9549886449808992,
          0.8239319885042501,
          1.0830386483737648,
          1.0042063611158032,
          0.9122992421762843,
          0.9833264320985546,
          0.959466199661557,
          0.9481923576692595,
          0.8999899270220368,
          0.98281903172163,
          0.9786334881674784,
          0.987613501423381,
          1.0264219705271842,
          0.981062972969404,
          0.94950399926855,
          1.0240579688079285,
          0.9143373862160908,
          0.9549530748211577,
          0.9388822618027796,
          0.9663128132671908,
          0.9395271370585113,
          0.8996998241817774,
          1.0020902641886427,
          0.9323946934956318,
          1.1088843667364494,
          1.0152020251044893,
          0.9799958446369805,
          0.921060131788968,
          1.0222945483399932,
          0.9621430890068341,
          1.0056700700438799,
          0.8848218670834098,
          0.9532873098958716,
          0.9485418231622782,
          0.9765360863486077,
          1.0164586888993914,
          0.8664360595401556,
          0.8855799621285827,
          0.8873725940532575,
          0.9444065883012757,
          1.0050860810308877,
          1.056368881530037,
          0.9639656842741693,
          0.9675704373639424,
          1.0158062287858542,
          1.0092834018983874,
          0.9801063188465038,
          0.9878658553081103,
          0.9789576803837062,
          0.9593387919267433,
          0.986729673492605,
          1.0171150412018166,
          1.0189278274656097,
          1.0094085195487474,
          0.9707100980110863,
          1.0064383293120944,
          1.0374365321167758,
          1.0011103935848373,
          1.0082630381233246,
          0.9612514432857459,
          0.9963692056137983,
          0.9606967144997259,
          0.9678505752805386,
          1.016053497725951,
          1.0190647040450325,
          0.9714405549357555,
          1.0351289048337693,
          0.9821811865635204,
          0.9215133419320529,
          1.0701569731853036,
          1.0416857428809494,
          0.9725612026643851,
          0.9493760353975842,
          1.014782440065103,
          0.9904308260182011,
          0.9981731162090524,
          0.9797506154773687,
          0.978573354309392,
          0.9976195045954973,
          0.9512556535929195,
          1.0053617721641364,
          1.0375315751788992,
          0.9441161679150617,
          0.966711132481267,
          0.997044791354899,
          0.9960430538681387,
          1.1225214240996546,
          0.9779786564519091,
          0.9589150929463164,
          0.9583377352983495,
          0.9567763372613707,
          0.939270364544061,
          0.9857084293286268,
          0.9887146170467459,
          1.0077568418550753,
          1.0184873624172583,
          1.0286207290665377,
          0.8865202109421261,
          0.9916081563274115,
          0.9322912182496514,
          0.9851467318228153,
          0.9602404097999696,
          0.9489616207451509,
          1.052943519367113,
          0.9929564053881659,
          1.0649145675227498,
          1.0316606045511079,
          1.0197329113428082,
          1.0096233609716487,
          1.0086747556333635,
          0.9044376477354575,
          0.973887038083825,
          0.9976977303978709,
          0.9513793268870049,
          0.9484073509685358,
          1.0149252974528056,
          0.9811120033712718,
          0.9882332137377184,
          1.036394659711957,
          0.8113158163821992,
          0.9582943627176046,
          0.9115696647488649,
          1.0599209433552672,
          0.8890089677403533,
          0.9915771779605579,
          0.9988306477907843,
          0.9703321732708395,
          0.9305556094770832,
          0.9376653250799809,
          0.9382826799399537,
          0.9762644078453918,
          0.9407073798424156,
          0.9288324016426392,
          1.0421688104788362,
          1.0420147376082896,
          0.8398720296533343,
          0.9694641082098151,
          0.8836690575149856,
          0.9915021397013469,
          1.0082672477887,
          0.9328804690697292,
          0.9755457667137554,
          1.0165658516132097,
          0.9524893088660255,
          1.0147639659383254,
          1.0190223924610544,
          0.9430069692572159,
          1.0806752213569641,
          1.0042318734278532,
          1.0558400841689297,
          0.9359213577393781,
          1.0040455542435325,
          1.018413842506952,
          0.9715230340701345,
          0.9780081687128462,
          0.9976178317940865,
          0.960859495641043,
          0.9205033822783614,
          0.9750135865636318,
          0.9501927037974229,
          0.9578852324157976,
          0.9300456226607211,
          1.0231293644911699,
          0.8583726437938319,
          0.9992313643731221,
          0.8761975740011807,
          0.9815127687140964,
          0.9793395726039043,
          1.0357190616033682,
          0.9159307977858784,
          0.9554984766710851,
          0.9301046596461124,
          1.0801091751387282,
          1.0519236845500488,
          1.0513019804246693,
          0.9545523876830408,
          0.9768445378100964,
          0.959710708912196,
          0.9585103905856506,
          0.9869839503826073,
          0.9603577401648516,
          0.9300947027212487,
          1.0326159474112104,
          0.9823848176400874,
          1.0167183791774275,
          1.0571794640444283,
          0.9931065719899466,
          1.0268342308449785,
          0.9818065461234937,
          1.016743024406738,
          0.9907151413293701,
          0.9414428688489261,
          0.9668670102861122,
          0.968708053378806,
          0.9782078541238287,
          0.997808938406453,
          0.9895501151310147,
          1.0174309476383478,
          1.0168383876058273,
          1.0381302674894224,
          1.0775470709971164,
          0.9564340121538032,
          0.9485318961315511,
          1.014930135793616,
          1.0382186755364504,
          0.972960977557578,
          1.0541425362477657,
          1.0596859959650007,
          1.0406740018587097,
          0.9634526588943765,
          0.8637907464604933,
          0.9998075229781221,
          1.056425999459894,
          0.9929975051304004,
          0.9602658965356808,
          0.9963932453238803,
          0.8471617612548499,
          1.1217076505701782,
          1.0167490177469334,
          1.0087822772207857,
          0.9613570813105985,
          0.9583245371874978,
          1.0057397141823812,
          0.9993293994525131,
          0.9892428162398053,
          0.9033177697543755,
          1.0115461988474934,
          0.9714997461979278,
          1.015882312978247,
          0.962044178849872,
          0.948916029945996,
          0.9672739231617246,
          0.996951193101799,
          0.941907524567436,
          0.9666947729934287,
          1.0064637297460788,
          0.9899573911220932,
          1.0172068579631663,
          0.9905932107427277,
          0.9413480000408468,
          1.0046590987558568,
          0.9425909287620227,
          0.9762430520748493,
          0.9029000235150446,
          1.0022326408834457,
          0.9142171280957441,
          0.8986712298006773,
          0.9927491235634088,
          1.0083846606993472,
          0.9615781123107845,
          0.9964554362009757,
          0.932557143391644,
          0.9851500098152403,
          0.9319786815174065,
          0.9662236352743807,
          0.9592130637210825,
          0.9680915337630618,
          0.9497625271600444,
          0.9864606824298051,
          0.9604884615997609,
          0.9491838112388383
         ],
         "yaxis": "y"
        },
        {
         "name": "Saved",
         "type": "scatter",
         "x": [
          0,
          0.01671195652173913,
          0.03342391304347826,
          0.05013586956521739,
          0.06684782608695652,
          0.08355978260869565,
          0.10027173913043479,
          0.11698369565217392,
          0.13369565217391305,
          0.15040760869565217,
          0.1671195652173913,
          0.18383152173913045,
          0.20054347826086957,
          0.2172554347826087,
          0.23396739130434785,
          0.250679347826087,
          0.2673913043478261,
          0.2841032608695652,
          0.30081521739130435,
          0.31752717391304347,
          0.3342391304347826,
          0.3509510869565218,
          0.3676630434782609,
          0.384375,
          0.40108695652173915,
          0.41779891304347827,
          0.4345108695652174,
          0.4512228260869565,
          0.4679347826086957,
          0.4846467391304348,
          0.501358695652174,
          0.518070652173913,
          0.5347826086956522,
          0.5514945652173914,
          0.5682065217391304,
          0.5849184782608696,
          0.6016304347826087,
          0.6183423913043479,
          0.6350543478260869,
          0.6517663043478261,
          0.6684782608695652,
          0.6851902173913044,
          0.7019021739130435,
          0.7186141304347826,
          0.7353260869565218,
          0.7520380434782609,
          0.76875,
          0.7854619565217391,
          0.8021739130434783,
          0.8188858695652175,
          0.8355978260869565,
          0.8523097826086957,
          0.8690217391304348,
          0.885733695652174,
          0.902445652173913,
          0.9191576086956522,
          0.9358695652173914,
          0.9525815217391305,
          0.9692934782608696,
          0.9860054347826087,
          1.002717391304348,
          1.019429347826087,
          1.036141304347826,
          1.0528532608695653,
          1.0695652173913044,
          1.0862771739130435,
          1.1029891304347827,
          1.1197010869565218,
          1.1364130434782609,
          1.153125,
          1.1698369565217392,
          1.1865489130434783,
          1.2032608695652174,
          1.2199728260869567,
          1.2366847826086957,
          1.2533967391304348,
          1.2701086956521739,
          1.2868206521739132,
          1.3035326086956522,
          1.3202445652173913,
          1.3369565217391304,
          1.3536684782608697,
          1.3703804347826087,
          1.3870923913043478,
          1.403804347826087,
          1.4205163043478262,
          1.4372282608695652,
          1.4539402173913043,
          1.4706521739130436,
          1.4873641304347827,
          1.5040760869565217,
          1.520788043478261,
          1.5375,
          1.5542119565217392,
          1.5709239130434782,
          1.5876358695652175,
          1.6043478260869566,
          1.6210597826086957,
          1.637771739130435,
          1.654483695652174,
          1.671195652173913,
          1.6879076086956522,
          1.7046195652173914,
          1.7213315217391305,
          1.7380434782608696,
          1.7547554347826089,
          1.771467391304348,
          1.788179347826087,
          1.804891304347826,
          1.8216032608695654,
          1.8383152173913044,
          1.8550271739130435,
          1.8717391304347828,
          1.8884510869565219,
          1.905163043478261,
          1.921875,
          1.9385869565217393,
          1.9552989130434784,
          1.9720108695652174,
          1.9887228260869565,
          2.005434782608696,
          2.022146739130435,
          2.038858695652174,
          2.055570652173913,
          2.072282608695652,
          2.0889945652173916,
          2.1057065217391306,
          2.1224184782608697,
          2.139130434782609,
          2.155842391304348,
          2.172554347826087,
          2.189266304347826,
          2.2059782608695655,
          2.2226902173913046,
          2.2394021739130436,
          2.2561141304347827,
          2.2728260869565218,
          2.289538043478261,
          2.30625,
          2.3229619565217394,
          2.3396739130434785,
          2.3563858695652176,
          2.3730978260869566,
          2.3898097826086957,
          2.4065217391304348,
          2.423233695652174,
          2.4399456521739133,
          2.4566576086956524,
          2.4733695652173915,
          2.4900815217391306,
          2.5067934782608696,
          2.5235054347826087,
          2.5402173913043478,
          2.5569293478260873,
          2.5736413043478263,
          2.5903532608695654,
          2.6070652173913045,
          2.6237771739130435,
          2.6404891304347826,
          2.6572010869565217,
          2.6739130434782608,
          2.6906250000000003,
          2.7073369565217393,
          2.7240489130434784,
          2.7407608695652175,
          2.7574728260869565,
          2.7741847826086956,
          2.7908967391304347,
          2.807608695652174,
          2.8243206521739133,
          2.8410326086956523,
          2.8577445652173914,
          2.8744565217391305,
          2.8911684782608695,
          2.9078804347826086,
          2.924592391304348,
          2.941304347826087,
          2.9580163043478263,
          2.9747282608695653,
          2.9914402173913044,
          3.0081521739130435,
          3.0248641304347825,
          3.041576086956522,
          3.058288043478261,
          3.075,
          3.0917119565217392,
          3.1084239130434783,
          3.1251358695652174,
          3.1418478260869565,
          3.158559782608696,
          3.175271739130435,
          3.191983695652174,
          3.208695652173913,
          3.2254076086956522,
          3.2421195652173913,
          3.2588315217391304,
          3.27554347826087,
          3.292255434782609,
          3.308967391304348,
          3.325679347826087,
          3.342391304347826,
          3.3591032608695652,
          3.3758152173913043,
          3.392527173913044,
          3.409239130434783,
          3.425951086956522,
          3.442663043478261,
          3.459375,
          3.476086956521739,
          3.4927989130434782,
          3.5095108695652177,
          3.526222826086957,
          3.542934782608696,
          3.559646739130435,
          3.576358695652174,
          3.593070652173913,
          3.609782608695652,
          3.6264945652173917,
          3.6432065217391307,
          3.65991847826087,
          3.676630434782609,
          3.693342391304348,
          3.710054347826087,
          3.726766304347826,
          3.7434782608695656,
          3.7601902173913047,
          3.7769021739130437,
          3.793614130434783,
          3.810326086956522,
          3.827038043478261,
          3.84375,
          3.860461956521739,
          3.8771739130434786,
          3.8938858695652177,
          3.9105978260869567,
          3.927309782608696,
          3.944021739130435,
          3.960733695652174,
          3.977445652173913,
          3.9941576086956525,
          4.010869565217392,
          4.027581521739131,
          4.04429347826087,
          4.061005434782609,
          4.077717391304348,
          4.094429347826087,
          4.111141304347826,
          4.127853260869565,
          4.144565217391304,
          4.161277173913044,
          4.177989130434783,
          4.194701086956522,
          4.211413043478261,
          4.228125,
          4.244836956521739,
          4.2615489130434785,
          4.278260869565218,
          4.294972826086957,
          4.311684782608696,
          4.328396739130435,
          4.345108695652174,
          4.361820652173913,
          4.378532608695652,
          4.395244565217391,
          4.411956521739131,
          4.42866847826087,
          4.445380434782609,
          4.462092391304348,
          4.478804347826087,
          4.495516304347826,
          4.512228260869565,
          4.5289402173913045,
          4.5456521739130435,
          4.562364130434783,
          4.579076086956522,
          4.595788043478261,
          4.6125,
          4.629211956521739,
          4.645923913043479,
          4.662635869565218,
          4.679347826086957,
          4.696059782608696,
          4.712771739130435,
          4.729483695652174,
          4.746195652173913,
          4.762907608695652,
          4.779619565217391,
          4.7963315217391305,
          4.8130434782608695,
          4.829755434782609,
          4.846467391304348,
          4.863179347826087,
          4.879891304347827,
          4.896603260869566,
          4.913315217391305,
          4.930027173913044,
          4.946739130434783,
          4.963451086956522,
          4.980163043478261,
          4.996875,
          5.013586956521739,
          5.030298913043478,
          5.047010869565217,
          5.0637228260869565,
          5.0804347826086955,
          5.097146739130435,
          5.1138586956521745,
          5.130570652173914,
          5.147282608695653,
          5.163994565217392,
          5.180706521739131,
          5.19741847826087,
          5.214130434782609,
          5.230842391304348,
          5.247554347826087,
          5.264266304347826,
          5.280978260869565,
          5.297690217391304,
          5.314402173913043,
          5.331114130434782,
          5.3478260869565215,
          5.3645380434782615,
          5.3812500000000005,
          5.39796195652174,
          5.414673913043479,
          5.431385869565218,
          5.448097826086957,
          5.464809782608696,
          5.481521739130435,
          5.498233695652174,
          5.514945652173913,
          5.531657608695652,
          5.548369565217391,
          5.56508152173913,
          5.581793478260869,
          5.598505434782609,
          5.615217391304348,
          5.6319293478260875,
          5.6486413043478265,
          5.665353260869566,
          5.682065217391305,
          5.698777173913044,
          5.715489130434783,
          5.732201086956522,
          5.748913043478261,
          5.765625,
          5.782336956521739,
          5.799048913043478,
          5.815760869565217,
          5.832472826086957,
          5.849184782608696,
          5.865896739130435,
          5.882608695652174,
          5.899320652173913,
          5.9160326086956525,
          5.932744565217392,
          5.949456521739131,
          5.96616847826087,
          5.982880434782609,
          5.999592391304348,
          6.016304347826087,
          6.033016304347826,
          6.049728260869565,
          6.066440217391305,
          6.083152173913044,
          6.099864130434783,
          6.116576086956522,
          6.133288043478261,
          6.15
         ],
         "xaxis": "x",
         "y": [
          0.97,
          0.95,
          0.98,
          0.99,
          0.99,
          0.98,
          0.92,
          0.99,
          0.99,
          1.01,
          1.02,
          0.97,
          1.03,
          0.98,
          1,
          0.9973240867362673,
          0.97,
          0.89,
          0.94,
          0.94,
          0.91,
          0.98,
          0.91,
          0.93,
          0.91,
          1.01,
          0.93,
          0.91,
          1.1,
          0.99,
          0.87,
          0.95,
          1.03,
          0.99,
          1.16,
          0.92,
          0.99,
          0.99,
          0.92,
          1.01,
          0.92,
          1.02,
          1.05,
          0.95,
          1.01,
          1.01,
          1.03,
          1.03,
          1,
          0.9989586497555766,
          1.01,
          0.96,
          0.95,
          1.01,
          0.97,
          0.94,
          0.93,
          0.99,
          0.9,
          1.01,
          0.92,
          0.96,
          0.96,
          1.01,
          0.89,
          0.91,
          0.92,
          1.01,
          0.96,
          0.96,
          0.91,
          0.94,
          0.93,
          0.91,
          1.03,
          0.94,
          1,
          0.96,
          0.85,
          1.01,
          0.9,
          0.98,
          1.03,
          1.04,
          0.97,
          0.97,
          0.9671035329375429,
          0.92,
          1.03,
          1.03,
          1.14,
          0.95,
          0.99,
          0.99,
          1.03,
          1.01,
          0.9,
          1.01,
          0.9,
          1.03,
          1.03,
          0.94,
          0.92,
          0.98,
          0.95,
          0.93,
          1.11,
          1.07,
          0.95,
          0.82,
          1.1,
          1,
          0.91,
          0.99,
          0.96,
          0.95,
          0.9,
          0.99,
          0.98,
          0.99,
          1.03,
          0.98,
          0.95,
          1.03,
          0.91,
          0.96,
          0.94,
          0.97,
          0.94,
          0.9,
          1.01,
          0.93,
          1.12,
          1.01,
          0.98,
          0.92,
          1.03,
          0.96,
          1.01,
          0.88,
          0.96,
          0.95,
          0.98,
          1.02,
          0.86,
          0.89,
          0.89,
          0.95,
          1.01,
          1.06,
          0.96,
          0.97,
          1.02,
          1.01,
          0.98,
          0.99,
          0.98,
          0.96,
          0.99,
          1.02,
          1.02,
          1.01,
          0.97,
          1.01,
          1.04,
          1,
          1.01,
          0.96,
          1,
          0.96,
          0.97,
          1.02,
          1.02,
          0.97,
          1.04,
          0.98,
          0.92,
          1.08,
          1.04,
          0.97,
          0.95,
          1.02,
          0.99,
          1,
          0.98,
          0.98,
          1,
          0.95,
          1.01,
          1.04,
          0.94,
          0.97,
          1,
          0.9960430538681387,
          1.13,
          0.97,
          0.96,
          0.96,
          0.9567763372613707,
          0.94,
          0.99,
          0.99,
          1.01,
          1.02,
          1.03,
          0.88,
          1,
          0.93,
          0.99,
          0.96,
          0.95,
          1.06,
          0.99,
          1.07,
          1.03,
          1.02,
          1.01,
          1.0086747556333635,
          0.9,
          0.98,
          1,
          0.95,
          0.95,
          1.02,
          0.98,
          0.99,
          1.04,
          0.8,
          0.97,
          0.91,
          1.07,
          0.88,
          1,
          1,
          0.97,
          0.93,
          0.94,
          0.94,
          0.98,
          0.94,
          0.93,
          1.05,
          1.0420147376082896,
          0.83,
          0.98,
          0.88,
          1,
          1.01,
          0.93,
          0.98,
          1.02,
          0.95,
          1.02,
          1.02,
          0.94,
          1.09,
          1,
          1.06,
          0.93,
          1.01,
          1.02,
          0.97,
          0.98,
          1,
          0.96,
          0.92,
          0.98,
          0.95,
          0.96,
          0.93,
          1.03,
          0.85,
          1.01,
          0.87,
          0.99,
          0.98,
          1.04,
          0.91,
          0.96,
          0.93,
          1.09,
          1.05,
          1.0513019804246693,
          0.95,
          0.98,
          0.96,
          0.96,
          0.99,
          0.96,
          0.93,
          1.04,
          0.98,
          1.02,
          1.06,
          0.99,
          1.03,
          0.98,
          1.02,
          0.99,
          0.94,
          0.97,
          0.97,
          0.98,
          1,
          0.99,
          1.02,
          1.0168383876058273,
          1.04,
          1.08,
          0.95,
          0.95,
          1.02,
          1.04,
          0.97,
          1.06,
          1.06,
          1.04,
          0.96,
          0.86,
          1.01,
          1.06,
          0.99,
          0.96,
          1,
          0.84,
          1.14,
          1.01,
          1.01,
          0.96,
          0.96,
          1.01,
          1,
          0.99,
          0.9,
          1.02,
          0.97,
          1.02,
          0.96,
          0.95,
          0.97,
          1,
          0.94,
          0.97,
          1.01,
          0.99,
          1.02,
          0.99,
          0.94,
          1.01,
          0.94,
          0.98,
          0.9,
          1.01,
          0.91,
          0.9,
          1,
          1.01,
          0.96,
          1,
          0.93,
          0.99,
          0.93,
          0.97,
          0.96,
          0.97,
          0.95,
          0.99,
          0.96,
          0.95
         ],
         "yaxis": "y"
        }
       ],
       "layout": {
        "template": {
         "data": {
          "bar": [
           {
            "error_x": {
             "color": "#2a3f5f"
            },
            "error_y": {
             "color": "#2a3f5f"
            },
            "marker": {
             "line": {
              "color": "#E5ECF6",
              "width": 0.5
             }
            },
            "type": "bar"
           }
          ],
          "barpolar": [
           {
            "marker": {
             "line": {
              "color": "#E5ECF6",
              "width": 0.5
             }
            },
            "type": "barpolar"
           }
          ],
          "carpet": [
           {
            "aaxis": {
             "endlinecolor": "#2a3f5f",
             "gridcolor": "white",
             "linecolor": "white",
             "minorgridcolor": "white",
             "startlinecolor": "#2a3f5f"
            },
            "baxis": {
             "endlinecolor": "#2a3f5f",
             "gridcolor": "white",
             "linecolor": "white",
             "minorgridcolor": "white",
             "startlinecolor": "#2a3f5f"
            },
            "type": "carpet"
           }
          ],
          "choropleth": [
           {
            "colorbar": {
             "outlinewidth": 0,
             "ticks": ""
            },
            "type": "choropleth"
           }
          ],
          "contour": [
           {
            "colorbar": {
             "outlinewidth": 0,
             "ticks": ""
            },
            "colorscale": [
             [
              0,
              "#0d0887"
             ],
             [
              0.1111111111111111,
              "#46039f"
             ],
             [
              0.2222222222222222,
              "#7201a8"
             ],
             [
              0.3333333333333333,
              "#9c179e"
             ],
             [
              0.4444444444444444,
              "#bd3786"
             ],
             [
              0.5555555555555556,
              "#d8576b"
             ],
             [
              0.6666666666666666,
              "#ed7953"
             ],
             [
              0.7777777777777778,
              "#fb9f3a"
             ],
             [
              0.8888888888888888,
              "#fdca26"
             ],
             [
              1,
              "#f0f921"
             ]
            ],
            "type": "contour"
           }
          ],
          "contourcarpet": [
           {
            "colorbar": {
             "outlinewidth": 0,
             "ticks": ""
            },
            "type": "contourcarpet"
           }
          ],
          "heatmap": [
           {
            "colorbar": {
             "outlinewidth": 0,
             "ticks": ""
            },
            "colorscale": [
             [
              0,
              "#0d0887"
             ],
             [
              0.1111111111111111,
              "#46039f"
             ],
             [
              0.2222222222222222,
              "#7201a8"
             ],
             [
              0.3333333333333333,
              "#9c179e"
             ],
             [
              0.4444444444444444,
              "#bd3786"
             ],
             [
              0.5555555555555556,
              "#d8576b"
             ],
             [
              0.6666666666666666,
              "#ed7953"
             ],
             [
              0.7777777777777778,
              "#fb9f3a"
             ],
             [
              0.8888888888888888,
              "#fdca26"
             ],
             [
              1,
              "#f0f921"
             ]
            ],
            "type": "heatmap"
           }
          ],
          "heatmapgl": [
           {
            "colorbar": {
             "outlinewidth": 0,
             "ticks": ""
            },
            "colorscale": [
             [
              0,
              "#0d0887"
             ],
             [
              0.1111111111111111,
              "#46039f"
             ],
             [
              0.2222222222222222,
              "#7201a8"
             ],
             [
              0.3333333333333333,
              "#9c179e"
             ],
             [
              0.4444444444444444,
              "#bd3786"
             ],
             [
              0.5555555555555556,
              "#d8576b"
             ],
             [
              0.6666666666666666,
              "#ed7953"
             ],
             [
              0.7777777777777778,
              "#fb9f3a"
             ],
             [
              0.8888888888888888,
              "#fdca26"
             ],
             [
              1,
              "#f0f921"
             ]
            ],
            "type": "heatmapgl"
           }
          ],
          "histogram": [
           {
            "marker": {
             "colorbar": {
              "outlinewidth": 0,
              "ticks": ""
             }
            },
            "type": "histogram"
           }
          ],
          "histogram2d": [
           {
            "colorbar": {
             "outlinewidth": 0,
             "ticks": ""
            },
            "colorscale": [
             [
              0,
              "#0d0887"
             ],
             [
              0.1111111111111111,
              "#46039f"
             ],
             [
              0.2222222222222222,
              "#7201a8"
             ],
             [
              0.3333333333333333,
              "#9c179e"
             ],
             [
              0.4444444444444444,
              "#bd3786"
             ],
             [
              0.5555555555555556,
              "#d8576b"
             ],
             [
              0.6666666666666666,
              "#ed7953"
             ],
             [
              0.7777777777777778,
              "#fb9f3a"
             ],
             [
              0.8888888888888888,
              "#fdca26"
             ],
             [
              1,
              "#f0f921"
             ]
            ],
            "type": "histogram2d"
           }
          ],
          "histogram2dcontour": [
           {
            "colorbar": {
             "outlinewidth": 0,
             "ticks": ""
            },
            "colorscale": [
             [
              0,
              "#0d0887"
             ],
             [
              0.1111111111111111,
              "#46039f"
             ],
             [
              0.2222222222222222,
              "#7201a8"
             ],
             [
              0.3333333333333333,
              "#9c179e"
             ],
             [
              0.4444444444444444,
              "#bd3786"
             ],
             [
              0.5555555555555556,
              "#d8576b"
             ],
             [
              0.6666666666666666,
              "#ed7953"
             ],
             [
              0.7777777777777778,
              "#fb9f3a"
             ],
             [
              0.8888888888888888,
              "#fdca26"
             ],
             [
              1,
              "#f0f921"
             ]
            ],
            "type": "histogram2dcontour"
           }
          ],
          "mesh3d": [
           {
            "colorbar": {
             "outlinewidth": 0,
             "ticks": ""
            },
            "type": "mesh3d"
           }
          ],
          "parcoords": [
           {
            "line": {
             "colorbar": {
              "outlinewidth": 0,
              "ticks": ""
             }
            },
            "type": "parcoords"
           }
          ],
          "pie": [
           {
            "automargin": true,
            "type": "pie"
           }
          ],
          "scatter": [
           {
            "marker": {
             "colorbar": {
              "outlinewidth": 0,
              "ticks": ""
             }
            },
            "type": "scatter"
           }
          ],
          "scatter3d": [
           {
            "line": {
             "colorbar": {
              "outlinewidth": 0,
              "ticks": ""
             }
            },
            "marker": {
             "colorbar": {
              "outlinewidth": 0,
              "ticks": ""
             }
            },
            "type": "scatter3d"
           }
          ],
          "scattercarpet": [
           {
            "marker": {
             "colorbar": {
              "outlinewidth": 0,
              "ticks": ""
             }
            },
            "type": "scattercarpet"
           }
          ],
          "scattergeo": [
           {
            "marker": {
             "colorbar": {
              "outlinewidth": 0,
              "ticks": ""
             }
            },
            "type": "scattergeo"
           }
          ],
          "scattergl": [
           {
            "marker": {
             "colorbar": {
              "outlinewidth": 0,
              "ticks": ""
             }
            },
            "type": "scattergl"
           }
          ],
          "scattermapbox": [
           {
            "marker": {
             "colorbar": {
              "outlinewidth": 0,
              "ticks": ""
             }
            },
            "type": "scattermapbox"
           }
          ],
          "scatterpolar": [
           {
            "marker": {
             "colorbar": {
              "outlinewidth": 0,
              "ticks": ""
             }
            },
            "type": "scatterpolar"
           }
          ],
          "scatterpolargl": [
           {
            "marker": {
             "colorbar": {
              "outlinewidth": 0,
              "ticks": ""
             }
            },
            "type": "scatterpolargl"
           }
          ],
          "scatterternary": [
           {
            "marker": {
             "colorbar": {
              "outlinewidth": 0,
              "ticks": ""
             }
            },
            "type": "scatterternary"
           }
          ],
          "surface": [
           {
            "colorbar": {
             "outlinewidth": 0,
             "ticks": ""
            },
            "colorscale": [
             [
              0,
              "#0d0887"
             ],
             [
              0.1111111111111111,
              "#46039f"
             ],
             [
              0.2222222222222222,
              "#7201a8"
             ],
             [
              0.3333333333333333,
              "#9c179e"
             ],
             [
              0.4444444444444444,
              "#bd3786"
             ],
             [
              0.5555555555555556,
              "#d8576b"
             ],
             [
              0.6666666666666666,
              "#ed7953"
             ],
             [
              0.7777777777777778,
              "#fb9f3a"
             ],
             [
              0.8888888888888888,
              "#fdca26"
             ],
             [
              1,
              "#f0f921"
             ]
            ],
            "type": "surface"
           }
          ],
          "table": [
           {
            "cells": {
             "fill": {
              "color": "#EBF0F8"
             },
             "line": {
              "color": "white"
             }
            },
            "header": {
             "fill": {
              "color": "#C8D4E3"
             },
             "line": {
              "color": "white"
             }
            },
            "type": "table"
           }
          ]
         },
         "layout": {
          "annotationdefaults": {
           "arrowcolor": "#2a3f5f",
           "arrowhead": 0,
           "arrowwidth": 1
          },
          "autotypenumbers": "strict",
          "coloraxis": {
           "colorbar": {
            "outlinewidth": 0,
            "ticks": ""
           }
          },
          "colorscale": {
           "diverging": [
            [
             0,
             "#8e0152"
            ],
            [
             0.1,
             "#c51b7d"
            ],
            [
             0.2,
             "#de77ae"
            ],
            [
             0.3,
             "#f1b6da"
            ],
            [
             0.4,
             "#fde0ef"
            ],
            [
             0.5,
             "#f7f7f7"
            ],
            [
             0.6,
             "#e6f5d0"
            ],
            [
             0.7,
             "#b8e186"
            ],
            [
             0.8,
             "#7fbc41"
            ],
            [
             0.9,
             "#4d9221"
            ],
            [
             1,
             "#276419"
            ]
           ],
           "sequential": [
            [
             0,
             "#0d0887"
            ],
            [
             0.1111111111111111,
             "#46039f"
            ],
            [
             0.2222222222222222,
             "#7201a8"
            ],
            [
             0.3333333333333333,
             "#9c179e"
            ],
            [
             0.4444444444444444,
             "#bd3786"
            ],
            [
             0.5555555555555556,
             "#d8576b"
            ],
            [
             0.6666666666666666,
             "#ed7953"
            ],
            [
             0.7777777777777778,
             "#fb9f3a"
            ],
            [
             0.8888888888888888,
             "#fdca26"
            ],
            [
             1,
             "#f0f921"
            ]
           ],
           "sequentialminus": [
            [
             0,
             "#0d0887"
            ],
            [
             0.1111111111111111,
             "#46039f"
            ],
            [
             0.2222222222222222,
             "#7201a8"
            ],
            [
             0.3333333333333333,
             "#9c179e"
            ],
            [
             0.4444444444444444,
             "#bd3786"
            ],
            [
             0.5555555555555556,
             "#d8576b"
            ],
            [
             0.6666666666666666,
             "#ed7953"
            ],
            [
             0.7777777777777778,
             "#fb9f3a"
            ],
            [
             0.8888888888888888,
             "#fdca26"
            ],
            [
             1,
             "#f0f921"
            ]
           ]
          },
          "colorway": [
           "#636efa",
           "#EF553B",
           "#00cc96",
           "#ab63fa",
           "#FFA15A",
           "#19d3f3",
           "#FF6692",
           "#B6E880",
           "#FF97FF",
           "#FECB52"
          ],
          "font": {
           "color": "#2a3f5f"
          },
          "geo": {
           "bgcolor": "white",
           "lakecolor": "white",
           "landcolor": "#E5ECF6",
           "showlakes": true,
           "showland": true,
           "subunitcolor": "white"
          },
          "hoverlabel": {
           "align": "left"
          },
          "hovermode": "closest",
          "mapbox": {
           "style": "light"
          },
          "paper_bgcolor": "white",
          "plot_bgcolor": "#E5ECF6",
          "polar": {
           "angularaxis": {
            "gridcolor": "white",
            "linecolor": "white",
            "ticks": ""
           },
           "bgcolor": "#E5ECF6",
           "radialaxis": {
            "gridcolor": "white",
            "linecolor": "white",
            "ticks": ""
           }
          },
          "scene": {
           "xaxis": {
            "backgroundcolor": "#E5ECF6",
            "gridcolor": "white",
            "gridwidth": 2,
            "linecolor": "white",
            "showbackground": true,
            "ticks": "",
            "zerolinecolor": "white"
           },
           "yaxis": {
            "backgroundcolor": "#E5ECF6",
            "gridcolor": "white",
            "gridwidth": 2,
            "linecolor": "white",
            "showbackground": true,
            "ticks": "",
            "zerolinecolor": "white"
           },
           "zaxis": {
            "backgroundcolor": "#E5ECF6",
            "gridcolor": "white",
            "gridwidth": 2,
            "linecolor": "white",
            "showbackground": true,
            "ticks": "",
            "zerolinecolor": "white"
           }
          },
          "shapedefaults": {
           "line": {
            "color": "#2a3f5f"
           }
          },
          "ternary": {
           "aaxis": {
            "gridcolor": "white",
            "linecolor": "white",
            "ticks": ""
           },
           "baxis": {
            "gridcolor": "white",
            "linecolor": "white",
            "ticks": ""
           },
           "bgcolor": "#E5ECF6",
           "caxis": {
            "gridcolor": "white",
            "linecolor": "white",
            "ticks": ""
           }
          },
          "title": {
           "x": 0.05
          },
          "xaxis": {
           "automargin": true,
           "gridcolor": "white",
           "linecolor": "white",
           "ticks": "",
           "title": {
            "standoff": 15
           },
           "zerolinecolor": "white",
           "zerolinewidth": 2
          },
          "yaxis": {
           "automargin": true,
           "gridcolor": "white",
           "linecolor": "white",
           "ticks": "",
           "title": {
            "standoff": 15
           },
           "zerolinecolor": "white",
           "zerolinewidth": 2
          }
         }
        },
        "title": {
         "text": "Accelerometer Dataset"
        },
        "xaxis": {
         "anchor": "y",
         "domain": [
          0,
          0.94
         ],
         "title": {
          "text": "Time (s)"
         }
        },
        "yaxis": {
         "anchor": "x",
         "domain": [
          0,
          1
         ],
         "title": {
          "text": "A (m/s2)"
         }
        },
        "yaxis2": {
         "anchor": "x",
         "overlaying": "y",
         "side": "right"
        }
       }
      }
     },
     "metadata": {},
     "output_type": "display_data"
    }
   ],
   "source": [
    "figure = make_subplots(specs=[[{\"secondary_y\": True}]])\n",
    "\n",
    "figure.update_layout(\n",
    "    title=\"Accelerometer Dataset\"\n",
    ")\n",
    "\n",
    "figure.add_trace(\n",
    "    go.Scatter(x=ts, y=data_acc['A'], name='True'),\n",
    "    secondary_y=False\n",
    ")\n",
    "\n",
    "figure.add_trace(\n",
    "    go.Scatter(x=ts, y=data_acc['y_pred_py'], name='Predicted'),\n",
    "    secondary_y=False\n",
    ")\n",
    "\n",
    "figure.add_trace(\n",
    "    go.Scatter(x=ts, y=data_acc['save_py'], name='Saved'),\n",
    "    secondary_y=False\n",
    ")\n",
    "\n",
    "\n",
    "figure.update_xaxes(title='Time (s)')\n",
    "figure.update_yaxes(title='A (m/s2)', secondary_y=False)\n",
    "figure.show()"
   ]
  },
  {
   "cell_type": "code",
   "execution_count": 13,
   "metadata": {},
   "outputs": [
    {
     "name": "stderr",
     "output_type": "stream",
     "text": [
      "The PostScript backend does not support transparency; partially transparent artists will be rendered opaque.\n"
     ]
    },
    {
     "data": {
      "image/png": "[encoded data removed]",
      "text/plain": [
       "<Figure size 4500x2310 with 1 Axes>"
      ]
     },
     "metadata": {
      "needs_background": "light"
     },
     "output_type": "display_data"
    }
   ],
   "source": [
    "plt.figure(figsize=(15,7.7), dpi=300)\n",
    "plt.xticks(fontsize=15)\n",
    "plt.yticks(fontsize=15)\n",
    "plt.grid()\n",
    "plt.xlabel(\"Time (minutes)\", fontsize=20)\n",
    "plt.ylabel(\"Acc (m/s2)\", fontsize=20)\n",
    "plt.plot(ts, data_acc['A'], 'g', label='True', linewidth=3)\n",
    "plt.plot(ts, data_acc['y_pred_py'], 'r', label='Predicted', linewidth=3)\n",
    "plt.plot(ts, data_acc['save_py'], 'b', label='Saved', linewidth=3)\n",
    "plt.legend(fontsize=15)\n",
    "\n",
    "plt.savefig(\"C:/Users/Samsung/Desktop/Pedro/UFRN/Portfolio/Publicados/TEDA RLS/Python/figures/Acc/results_acc_curves.eps\", dpi=600, bbox_inches='tight')"
   ]
  },
  {
   "cell_type": "markdown",
   "metadata": {},
   "source": [
    "# 5. Metrics"
   ]
  },
  {
   "cell_type": "markdown",
   "metadata": {},
   "source": [
    "In this section, we will present the metrics for the TEDA classification algorithm, including the **classification report** and **confusion_matrix**, as well as for the RLS forecasting algorithm, which includes the **Mean Squared Error** (MSE) and **Mean Absolute Error** (MAE)."
   ]
  },
  {
   "cell_type": "markdown",
   "metadata": {},
   "source": [
    "### 5.1 TEDA Evaluation"
   ]
  },
  {
   "cell_type": "code",
   "execution_count": 14,
   "metadata": {},
   "outputs": [],
   "source": [
    "from sklearn.metrics import classification_report, confusion_matrix"
   ]
  },
  {
   "cell_type": "markdown",
   "metadata": {},
   "source": [
    "#### 5.1.1 Confusion matrix:\n",
    "\n",
    "$$\n",
    "CM = \\begin{bmatrix}\n",
    "TN & FP\\\\ \n",
    "FN & TP\n",
    "\\end{bmatrix}\n",
    "$$"
   ]
  },
  {
   "cell_type": "code",
   "execution_count": 15,
   "metadata": {},
   "outputs": [
    {
     "name": "stdout",
     "output_type": "stream",
     "text": [
      "[[356   0]\n",
      " [  4   9]]\n"
     ]
    }
   ],
   "source": [
    "print(confusion_matrix(data_acc['Label'], data_acc['flag_py']))"
   ]
  },
  {
   "cell_type": "markdown",
   "metadata": {},
   "source": [
    "#### 5.1.2 Classification report:"
   ]
  },
  {
   "cell_type": "code",
   "execution_count": 16,
   "metadata": {},
   "outputs": [
    {
     "name": "stdout",
     "output_type": "stream",
     "text": [
      "              precision    recall  f1-score   support\n",
      "\n",
      "           0       0.99      1.00      0.99       356\n",
      "           1       1.00      0.69      0.82        13\n",
      "\n",
      "    accuracy                           0.99       369\n",
      "   macro avg       0.99      0.85      0.91       369\n",
      "weighted avg       0.99      0.99      0.99       369\n",
      "\n"
     ]
    }
   ],
   "source": [
    "print(classification_report(data_acc['Label'], data_acc['flag_py']))"
   ]
  },
  {
   "cell_type": "markdown",
   "metadata": {},
   "source": [
    "### 5.2 RLS Evaluation\n",
    "The MSE metric will be applied between the current values and the values corrected/saved by the algorithm, as well as between the current values and the values predicted by the RLS algorithm."
   ]
  },
  {
   "cell_type": "code",
   "execution_count": 17,
   "metadata": {},
   "outputs": [],
   "source": [
    "from sklearn.metrics import mean_squared_error, mean_absolute_error"
   ]
  },
  {
   "cell_type": "markdown",
   "metadata": {},
   "source": [
    "#### 5.2.1 Comparing to Saved Values"
   ]
  },
  {
   "cell_type": "code",
   "execution_count": 18,
   "metadata": {},
   "outputs": [],
   "source": [
    "start = 0"
   ]
  },
  {
   "cell_type": "markdown",
   "metadata": {},
   "source": [
    "Root Mean Squared Error (RMSE)"
   ]
  },
  {
   "cell_type": "code",
   "execution_count": 20,
   "metadata": {},
   "outputs": [
    {
     "data": {
      "text/plain": [
       "0.09970620763136405"
      ]
     },
     "execution_count": 20,
     "metadata": {},
     "output_type": "execute_result"
    }
   ],
   "source": [
    "rmse_saved = mean_squared_error(data_acc['A'].iloc[start:], data_acc['save_py'].iloc[start:], squared=False)\n",
    "rmse_saved"
   ]
  },
  {
   "cell_type": "markdown",
   "metadata": {},
   "source": [
    "Mean Absolute Error (MAE)"
   ]
  },
  {
   "cell_type": "code",
   "execution_count": 21,
   "metadata": {},
   "outputs": [
    {
     "data": {
      "text/plain": [
       "0.014466733049069435"
      ]
     },
     "execution_count": 21,
     "metadata": {},
     "output_type": "execute_result"
    }
   ],
   "source": [
    "mae_saved = mean_absolute_error(data_acc['A'].iloc[start:], data_acc['save_py'].iloc[start:])\n",
    "mae_saved"
   ]
  },
  {
   "cell_type": "markdown",
   "metadata": {},
   "source": [
    "#### 5.2.2 Comparing to Predicted Values"
   ]
  },
  {
   "cell_type": "markdown",
   "metadata": {},
   "source": [
    "Root Mean Squared Error (MSE) "
   ]
  },
  {
   "cell_type": "code",
   "execution_count": 23,
   "metadata": {},
   "outputs": [
    {
     "data": {
      "text/plain": [
       "0.11199596069760487"
      ]
     },
     "execution_count": 23,
     "metadata": {},
     "output_type": "execute_result"
    }
   ],
   "source": [
    "rmse_pred = mean_squared_error(data_acc['A'].iloc[start:], data_acc['y_pred_py'].iloc[start:], squared=False)\n",
    "rmse_pred"
   ]
  },
  {
   "cell_type": "markdown",
   "metadata": {},
   "source": [
    "Mean Absolute Error (MAE)"
   ]
  },
  {
   "cell_type": "code",
   "execution_count": 24,
   "metadata": {},
   "outputs": [
    {
     "data": {
      "text/plain": [
       "0.020768129483440097"
      ]
     },
     "execution_count": 24,
     "metadata": {},
     "output_type": "execute_result"
    }
   ],
   "source": [
    "mae_pred = mean_absolute_error(data_acc['A'].iloc[start:], data_acc['y_pred_py'].iloc[start:])\n",
    "mae_pred"
   ]
  },
  {
   "cell_type": "markdown",
   "metadata": {},
   "source": [
    "# 6. References\n",
    "\n",
    " [[1]](https://www.mdpi.com/1424-8220/22/10/3838) **Andrade, P.**; Silva, I.; Silva, M.; Flores, T.; Cassiano, J.; Costa, D.G. *A TinyML Soft-Sensor Approach for Low-Cost Detection and Monitoring of Vehicular Emissions*. SENSORS 2022, 22, 3838.  ![GitHub](https://img.shields.io/badge/DOI-10.3390%2Fs22103838-green)\n",
    "\n",
    "\n",
    "[[2]](https://dl.acm.org/journal/tecs) **Andrade, P.**; Silva, I.; Silva, M.; Flores, T.; Costa, D.G. Soares, E.; _Online Processing of Vehicular Data on the Edge Through an Unsupervised TinyML Regression Technique_. ACM TECS 2023. ![GitHub](https://img.shields.io/badge/DOI-10.1145%2Fs3591356-green)"
   ]
  }
 ],
 "metadata": {
  "colab": {
   "authorship_tag": "ABX9TyNLZCZpHdSXWy2xeKwk3pD0",
   "collapsed_sections": [],
   "name": "TesteFree_CO2.ipynb",
   "provenance": [],
   "toc_visible": true
  },
  "kernelspec": {
   "display_name": "Python 3.8.5 ('base')",
   "language": "python",
   "name": "python3"
  },
  "language_info": {
   "codemirror_mode": {
    "name": "ipython",
    "version": 3
   },
   "file_extension": ".py",
   "mimetype": "text/x-python",
   "name": "python",
   "nbconvert_exporter": "python",
   "pygments_lexer": "ipython3",
   "version": "3.8.5"
  },
  "vscode": {
   "interpreter": {
    "hash": "33bea494317c8c22a4760028ceed23349c4667bf8f6d1305a13b8d31b6e7f27d"
   }
  }
 },
 "nbformat": 4,
 "nbformat_minor": 1
}
