{
 "cells": [
  {
   "cell_type": "markdown",
   "metadata": {
    "colab_type": "text",
    "id": "ofwtcgvWTtOW"
   },
   "source": [
    "# Explaining the RLS Algorithm: Outlier Processing"
   ]
  },
  {
   "cell_type": "markdown",
   "metadata": {},
   "source": [
    "- #### Code by:\n",
    "\n",
    "Pedro Henrique Meira de Andrade (Git: pedrohmeiraa) - 11/jul/2023"
   ]
  },
  {
   "cell_type": "markdown",
   "metadata": {},
   "source": [
    "## 1. Definitions"
   ]
  },
  {
   "cell_type": "markdown",
   "metadata": {},
   "source": [
    "## 2. Hands on!"
   ]
  },
  {
   "cell_type": "markdown",
   "metadata": {},
   "source": [
    "The following code snippets utilize the methods of the RLS Filter class developed in Python. The methods include the constructor, the weight *update* method, and the *filter* method."
   ]
  },
  {
   "cell_type": "markdown",
   "metadata": {
    "colab_type": "text",
    "id": "kPHjZ4iMUCjh"
   },
   "source": [
    "### 2.1 Importing modules and libraries:"
   ]
  },
  {
   "cell_type": "code",
   "execution_count": 5,
   "metadata": {
    "colab": {
     "base_uri": "https://localhost:8080/",
     "height": 71
    },
    "colab_type": "code",
    "executionInfo": {
     "elapsed": 3043,
     "status": "ok",
     "timestamp": 1594664992056,
     "user": {
      "displayName": "PEDRO ANDRADE",
      "photoUrl": "https://lh3.googleusercontent.com/a-/AOh14Gg7rX8Ay3ygspOgL2OSlmHq-_pe_-2BIgJmuTv5=s64",
      "userId": "01424737486386709382"
     },
     "user_tz": 180
    },
    "id": "kc6XdrfD9hd5",
    "outputId": "ffd7e1ee-f1d5-42a6-d770-a5e69e5d754c"
   },
   "outputs": [],
   "source": [
    "import numpy as np\n",
    "import pandas as pd\n",
    "import matplotlib.pyplot as plt\n",
    "import seaborn as sns\n",
    "from sklearn import preprocessing\n",
    "import plotly.graph_objects as go\n",
    "from plotly.subplots import make_subplots\n",
    "import plotly.express as px\n",
    "import time"
   ]
  },
  {
   "cell_type": "markdown",
   "metadata": {},
   "source": [
    "### Importing our module:"
   ]
  },
  {
   "cell_type": "code",
   "execution_count": 6,
   "metadata": {},
   "outputs": [],
   "source": [
    "from RLSFilter import RLSFilter"
   ]
  },
  {
   "cell_type": "markdown",
   "metadata": {
    "colab_type": "text",
    "id": "s2f127LXUJQ5"
   },
   "source": [
    "### 2.2 Importing data:"
   ]
  },
  {
   "cell_type": "markdown",
   "metadata": {},
   "source": [
    "The dataset used in this notebook consists of speed data, measured in kilometers per hour, collected from a vehicle at a frequency of 1Hz."
   ]
  },
  {
   "cell_type": "code",
   "execution_count": 2,
   "metadata": {},
   "outputs": [
    {
     "data": {
      "text/html": [
       "<div>\n",
       "<style scoped>\n",
       "    .dataframe tbody tr th:only-of-type {\n",
       "        vertical-align: middle;\n",
       "    }\n",
       "\n",
       "    .dataframe tbody tr th {\n",
       "        vertical-align: top;\n",
       "    }\n",
       "\n",
       "    .dataframe thead th {\n",
       "        text-align: right;\n",
       "    }\n",
       "</style>\n",
       "<table border=\"1\" class=\"dataframe\">\n",
       "  <thead>\n",
       "    <tr style=\"text-align: right;\">\n",
       "      <th></th>\n",
       "      <th>Date</th>\n",
       "      <th>Hour</th>\n",
       "      <th>x_ant</th>\n",
       "      <th>x_atual</th>\n",
       "      <th>flag</th>\n",
       "      <th>x_antp</th>\n",
       "      <th>x_atualp</th>\n",
       "      <th>y_pred</th>\n",
       "    </tr>\n",
       "  </thead>\n",
       "  <tbody>\n",
       "    <tr>\n",
       "      <th>0</th>\n",
       "      <td>01/10/2023</td>\n",
       "      <td>21:27:54</td>\n",
       "      <td>0.0</td>\n",
       "      <td>0</td>\n",
       "      <td>1</td>\n",
       "      <td>0.0</td>\n",
       "      <td>0.0</td>\n",
       "      <td>0.0</td>\n",
       "    </tr>\n",
       "    <tr>\n",
       "      <th>1</th>\n",
       "      <td>01/10/2023</td>\n",
       "      <td>21:27:55</td>\n",
       "      <td>0.0</td>\n",
       "      <td>0</td>\n",
       "      <td>0</td>\n",
       "      <td>0.0</td>\n",
       "      <td>0.0</td>\n",
       "      <td>0.0</td>\n",
       "    </tr>\n",
       "    <tr>\n",
       "      <th>2</th>\n",
       "      <td>01/10/2023</td>\n",
       "      <td>21:27:55</td>\n",
       "      <td>0.0</td>\n",
       "      <td>0</td>\n",
       "      <td>0</td>\n",
       "      <td>0.0</td>\n",
       "      <td>0.0</td>\n",
       "      <td>0.0</td>\n",
       "    </tr>\n",
       "    <tr>\n",
       "      <th>3</th>\n",
       "      <td>01/10/2023</td>\n",
       "      <td>21:27:56</td>\n",
       "      <td>0.0</td>\n",
       "      <td>0</td>\n",
       "      <td>0</td>\n",
       "      <td>0.0</td>\n",
       "      <td>0.0</td>\n",
       "      <td>0.0</td>\n",
       "    </tr>\n",
       "    <tr>\n",
       "      <th>4</th>\n",
       "      <td>01/10/2023</td>\n",
       "      <td>21:27:56</td>\n",
       "      <td>0.0</td>\n",
       "      <td>3</td>\n",
       "      <td>0</td>\n",
       "      <td>0.0</td>\n",
       "      <td>3.0</td>\n",
       "      <td>0.0</td>\n",
       "    </tr>\n",
       "  </tbody>\n",
       "</table>\n",
       "</div>"
      ],
      "text/plain": [
       "          Date       Hour  x_ant  x_atual  flag  x_antp  x_atualp  y_pred\n",
       "0   01/10/2023   21:27:54    0.0        0     1     0.0       0.0     0.0\n",
       "1   01/10/2023   21:27:55    0.0        0     0     0.0       0.0     0.0\n",
       "2   01/10/2023   21:27:55    0.0        0     0     0.0       0.0     0.0\n",
       "3   01/10/2023   21:27:56    0.0        0     0     0.0       0.0     0.0\n",
       "4   01/10/2023   21:27:56    0.0        3     0     0.0       3.0     0.0"
      ]
     },
     "execution_count": 2,
     "metadata": {},
     "output_type": "execute_result"
    }
   ],
   "source": [
    "data = pd.read_excel(\"Speed.xlsx\")\n",
    "data.head()"
   ]
  },
  {
   "cell_type": "markdown",
   "metadata": {},
   "source": [
    "### Defining time samples:"
   ]
  },
  {
   "cell_type": "code",
   "execution_count": 3,
   "metadata": {},
   "outputs": [],
   "source": [
    "t_samples = np.linspace(0, len(data), num=len(data))"
   ]
  },
  {
   "cell_type": "code",
   "execution_count": 4,
   "metadata": {},
   "outputs": [
    {
     "data": {
      "image/png": "[encoded data removed]",
      "text/plain": [
       "<Figure size 1080x554.4 with 1 Axes>"
      ]
     },
     "metadata": {
      "needs_background": "light"
     },
     "output_type": "display_data"
    }
   ],
   "source": [
    "plt.figure(figsize=(15,7.7))\n",
    "plt.grid()\n",
    "plt.title(\"Speed\", fontsize=20)\n",
    "plt.plot(t_samples, data['x_atual'], 'ob', linewidth=3.5)\n",
    "plt.ylabel(\"Speed (m/s)\", fontsize=16)\n",
    "plt.xlabel(\"t(s)\", fontsize=16)\n",
    "plt.xticks(fontsize=15)\n",
    "plt.yticks(fontsize=15)\n",
    "plt.show()"
   ]
  },
  {
   "cell_type": "markdown",
   "metadata": {},
   "source": [
    "# 3. RLS Filter to Outlier Processing"
   ]
  },
  {
   "cell_type": "markdown",
   "metadata": {},
   "source": [
    "### Defining initial conditions:"
   ]
  },
  {
   "cell_type": "code",
   "execution_count": 5,
   "metadata": {},
   "outputs": [],
   "source": [
    "filter_order = 2                        #filter_order equivalent to window size\n",
    "forgetting_factor = 0.99                #Forgetting factor: It is introduced to give exponentially less weight to older error samples. It is usually chosen between 0.98 and 1.\n",
    "regularization_factor = 0.1             #It is usually chose between 0.1 and 1.\n",
    "w0 = np.zeros(filter_order).tolist()    #Initial weights\n",
    "X_ant = np.zeros(filter_order).tolist() #Initial previous input\n",
    "Ya_py = []                              #Auxiliary y_pred\n",
    "Y_py = []                               #Results\n",
    "y_pred_py = 0.0                         #Initial predicted value\n",
    "\n",
    "rls_filter = RLSFilter(n = filter_order, mu = forgetting_factor, delta=regularization_factor, w=w0)"
   ]
  },
  {
   "cell_type": "markdown",
   "metadata": {},
   "source": [
    "#### Running:"
   ]
  },
  {
   "cell_type": "code",
   "execution_count": 6,
   "metadata": {},
   "outputs": [],
   "source": [
    "for i in data['x_atual']:\n",
    "    ## Acquiring the data input\n",
    "    valor_atual = i\n",
    "\n",
    "    #Saving \n",
    "    Ya_py.append(y_pred_py)\n",
    "\n",
    "    # Updating weights\n",
    "    rls_filter.update(valor_atual, np.array(X_ant))\n",
    "    input_vector = []\n",
    "    for j in X_ant[1:]:\n",
    "        input_vector.append(j)\n",
    "    input_vector.append(valor_atual)\n",
    "\n",
    "    #Predicting the next value\n",
    "    y_pred_py = rls_filter.filter(input_vector)\n",
    "    Y_py.append(y_pred_py)\n",
    "\n",
    "    #Updating previous values vector\n",
    "    X_ant = input_vector\n",
    "\n",
    "data['ya_pred_py'] = Ya_py\n",
    "data['y_pred_py'] = Y_py"
   ]
  },
  {
   "cell_type": "markdown",
   "metadata": {},
   "source": [
    "## Figure visualization:"
   ]
  },
  {
   "cell_type": "code",
   "execution_count": 7,
   "metadata": {},
   "outputs": [
    {
     "data": {
      "application/vnd.plotly.v1+json": {
       "config": {
        "plotlyServerURL": "https://plot.ly"
       },
       "data": [
        {
         "name": "True",
         "type": "scatter",
         "xaxis": "x",
         "y": [
          0,
          0,
          0,
          0,
          3,
          6,
          7,
          9,
          10,
          11,
          12,
          13,
          12,
          12,
          12,
          11,
          11,
          10,
          10,
          9,
          8,
          7,
          8,
          8,
          10,
          12,
          15,
          18,
          21,
          22,
          25,
          25,
          24,
          23,
          22,
          21,
          19,
          16,
          13,
          9,
          7,
          6,
          7,
          7,
          7,
          7,
          6,
          5,
          6,
          6,
          9,
          12,
          15,
          19,
          23,
          26,
          30,
          32,
          34,
          35,
          34,
          33,
          29,
          23,
          18,
          15,
          16,
          18,
          20,
          21,
          24,
          26,
          29,
          32,
          35,
          37,
          39,
          40,
          41,
          42,
          43,
          43,
          43,
          44,
          46,
          46,
          47,
          46,
          46,
          46,
          45,
          44,
          43,
          41,
          39,
          40,
          42,
          44,
          46,
          47,
          46,
          41,
          35,
          28,
          22,
          18,
          20,
          25,
          31,
          34,
          37,
          40,
          42,
          44,
          46,
          49,
          51,
          52,
          53,
          53,
          54,
          54,
          54,
          55,
          55,
          55,
          55,
          54,
          53,
          53,
          53,
          53,
          52,
          52,
          51,
          51,
          51,
          51,
          51,
          51,
          50,
          48,
          46,
          44,
          41,
          37,
          34,
          31,
          26,
          18,
          9,
          2,
          3,
          3,
          2,
          2,
          3,
          5,
          5,
          4,
          3,
          6,
          12,
          16,
          20,
          22,
          23,
          23,
          23,
          24,
          26,
          28,
          29,
          29,
          31,
          31,
          32,
          32,
          30,
          30,
          31,
          32,
          33,
          28,
          23,
          18,
          18,
          20,
          23,
          27,
          31,
          35,
          39,
          42,
          44,
          46,
          47,
          49,
          50,
          51,
          50,
          49,
          48,
          45,
          44,
          43,
          40,
          35,
          29,
          22,
          19,
          20,
          23,
          29,
          34,
          37,
          37,
          33,
          24,
          18,
          17,
          20,
          23,
          28,
          33,
          36,
          38,
          40,
          41,
          40,
          37,
          35,
          34,
          34,
          35,
          37,
          40,
          42,
          44
         ],
         "yaxis": "y"
        },
        {
         "name": "Predicted",
         "type": "scatter",
         "xaxis": "x",
         "y": [
          0,
          0,
          0,
          0,
          0,
          11.875768881546122,
          8.437864390419943,
          11.468435325248139,
          11.600211383091448,
          12.462222749008173,
          13.399160073503065,
          14.365506094916883,
          12.063579531809188,
          12.383129493113547,
          12.32174831708436,
          10.783345866323986,
          11.1498831128085,
          9.689599690911587,
          10.06020889989832,
          8.639259265756106,
          7.60661231589315,
          6.587358848991325,
          8.3334053851451,
          7.971936455881267,
          10.750547715404101,
          12.832843572465105,
          16.385232899090223,
          19.63775732058814,
          22.93656360526159,
          23.17876524387028,
          27.253746168508876,
          25.91394648237224,
          24.267295403299492,
          23.088956174697646,
          21.960997387617894,
          20.86593401579964,
          18.36990103585849,
          14.882396655850302,
          11.822108188517628,
          7.435423769300735,
          6.175288208516882,
          5.547824160677616,
          7.258257518647291,
          6.898696139492172,
          6.89942199289527,
          6.900144694256337,
          5.550529294747292,
          4.562795453484373,
          6.270685628879486,
          5.911387213024781,
          9.962118979468169,
          12.950928541219469,
          15.965833871092842,
          20.39763409311617,
          24.528958163979656,
          27.299922201323632,
          31.920735846370707,
          33.278915755050285,
          35.393399580910454,
          36.02981161611474,
          34.11721652196617,
          33.001836108156645,
          27.614541877759855,
          20.647746090311486,
          15.955316037308553,
          13.694532128798057,
          16.159653225536474,
          18.525143747564673,
          20.534369361822563,
          21.179257355643912,
          24.9490843004366,
          26.619747010404843,
          30.060979526928904,
          33.154130920844636,
          36.26673897378919,
          37.97486420803664,
          40.058760889220025,
          40.71517784179308,
          41.74421516583039,
          42.771532831637316,
          43.79721963694485,
          43.39580402864131,
          43.370515448057176,
          44.76681781064855,
          47.209713510079794,
          46.43999018349234,
          47.83182871662658,
          46.0191097720612,
          46.36742852813576,
          46.34841453208389,
          44.925005372727256,
          43.87654834558613,
          42.83431266083787,
          40.40346297991979,
          38.34957693839755,
          40.46161073723403,
          42.86827376541624,
          44.91464471438815,
          46.963813308288195,
          47.620350473001416,
          45.851302008534034,
          39.254889174377,
          32.77937567724273,
          25.346828786439517,
          19.69298195442442,
          16.423217005573456,
          20.576372753931278,
          26.645043733854976,
          33.01483629194091,
          34.95088068490796,
          37.97972590915305,
          41.017924661519885,
          42.68612104352341,
          44.7217191536161,
          46.76076600413403,
          50.190420836020934,
          51.871752597356576,
          52.52745925182091,
          53.54877127943023,
          53.17580222524598,
          54.562461849868086,
          54.18944916923641,
          54.18250742960325,
          55.567620368391395,
          55.19531424819941,
          55.1884475029066,
          55.181984760600784,
          53.78714159101205,
          52.75971567848801,
          53.11985040114734,
          53.11635154319023,
          53.11301879651664,
          51.72697458739947,
          52.08751175674779,
          50.70451300363555,
          51.06531446464014,
          51.06371947811997,
          51.06218556061052,
          51.06070934382581,
          51.05928770258958,
          49.68049498189218,
          47.28900837289718,
          45.2633632034257,
          43.24159854978305,
          39.853793771883474,
          35.466505613264076,
          32.813839306016575,
          29.80659016118971,
          24.084694347754613,
          15.02264842288256,
          5.708072373704109,
          -0.5248045958843224,
          3.334365174295784,
          2.9761155084641118,
          1.6257814788007499,
          1.9840418112103868,
          3.334347231310741,
          5.676815059723737,
          4.960261853670317,
          3.609784536705,
          2.6176850601780552,
          7.027153768499434,
          14.056456865939978,
          17.311932303713256,
          21.288572253916225,
          22.561105074086974,
          23.198277677837332,
          22.839446599220793,
          22.840295229841278,
          24.197458204933156,
          26.552474440211224,
          28.54988095326592,
          29.190220433711417,
          28.83138639239399,
          31.55349106345581,
          30.834360828940987,
          32.19764205947692,
          31.83877159012671,
          29.116526265491366,
          29.8392391883955,
          31.20173686099209,
          32.20455886128089,
          33.20811173893642,
          26.038448867488846,
          21.045283177034595,
          16.064651292192146,
          17.863991310362948,
          20.572784608404945,
          23.919653780627186,
          28.26813085840415,
          32.26513372198441,
          36.271732433402136,
          40.28913065554656,
          42.94929625406718,
          44.60673171849396,
          46.62973442910695,
          47.280432105580296,
          49.67121539088753,
          50.32323631922406,
          51.33916727960021,
          49.59711435362762,
          48.583879892004816,
          47.57197104897787,
          43.812098657825835,
          43.530136496644204,
          42.52338444966797,
          38.778682553052946,
          33.03175672950535,
          26.662165109663526,
          19.315617552537518,
          17.772427705375552,
          20.207283215717247,
          23.912248050913224,
          30.970866216741886,
          35.60586654696357,
          37.88940018557585,
          36.80688402706126,
          31.352935426454998,
          20.553501350190604,
          15.670232879182349,
          16.48268247514908,
          20.90352305198416,
          23.885256818052795,
          29.583072030177664,
          34.57086341500366,
          36.84848706714124,
          38.49174537356602,
          40.500493021156,
          41.144852918729626,
          39.417319657315936,
          35.68353456423384,
          34.046084404931634,
          33.41072301036563,
          33.775502612633446,
          35.1404519904352,
          37.50741579537893,
          40.880157955981815,
          42.52934357007747,
          44.544170033746774
         ],
         "yaxis": "y"
        }
       ],
       "layout": {
        "template": {
         "data": {
          "bar": [
           {
            "error_x": {
             "color": "#2a3f5f"
            },
            "error_y": {
             "color": "#2a3f5f"
            },
            "marker": {
             "line": {
              "color": "#E5ECF6",
              "width": 0.5
             }
            },
            "type": "bar"
           }
          ],
          "barpolar": [
           {
            "marker": {
             "line": {
              "color": "#E5ECF6",
              "width": 0.5
             }
            },
            "type": "barpolar"
           }
          ],
          "carpet": [
           {
            "aaxis": {
             "endlinecolor": "#2a3f5f",
             "gridcolor": "white",
             "linecolor": "white",
             "minorgridcolor": "white",
             "startlinecolor": "#2a3f5f"
            },
            "baxis": {
             "endlinecolor": "#2a3f5f",
             "gridcolor": "white",
             "linecolor": "white",
             "minorgridcolor": "white",
             "startlinecolor": "#2a3f5f"
            },
            "type": "carpet"
           }
          ],
          "choropleth": [
           {
            "colorbar": {
             "outlinewidth": 0,
             "ticks": ""
            },
            "type": "choropleth"
           }
          ],
          "contour": [
           {
            "colorbar": {
             "outlinewidth": 0,
             "ticks": ""
            },
            "colorscale": [
             [
              0,
              "#0d0887"
             ],
             [
              0.1111111111111111,
              "#46039f"
             ],
             [
              0.2222222222222222,
              "#7201a8"
             ],
             [
              0.3333333333333333,
              "#9c179e"
             ],
             [
              0.4444444444444444,
              "#bd3786"
             ],
             [
              0.5555555555555556,
              "#d8576b"
             ],
             [
              0.6666666666666666,
              "#ed7953"
             ],
             [
              0.7777777777777778,
              "#fb9f3a"
             ],
             [
              0.8888888888888888,
              "#fdca26"
             ],
             [
              1,
              "#f0f921"
             ]
            ],
            "type": "contour"
           }
          ],
          "contourcarpet": [
           {
            "colorbar": {
             "outlinewidth": 0,
             "ticks": ""
            },
            "type": "contourcarpet"
           }
          ],
          "heatmap": [
           {
            "colorbar": {
             "outlinewidth": 0,
             "ticks": ""
            },
            "colorscale": [
             [
              0,
              "#0d0887"
             ],
             [
              0.1111111111111111,
              "#46039f"
             ],
             [
              0.2222222222222222,
              "#7201a8"
             ],
             [
              0.3333333333333333,
              "#9c179e"
             ],
             [
              0.4444444444444444,
              "#bd3786"
             ],
             [
              0.5555555555555556,
              "#d8576b"
             ],
             [
              0.6666666666666666,
              "#ed7953"
             ],
             [
              0.7777777777777778,
              "#fb9f3a"
             ],
             [
              0.8888888888888888,
              "#fdca26"
             ],
             [
              1,
              "#f0f921"
             ]
            ],
            "type": "heatmap"
           }
          ],
          "heatmapgl": [
           {
            "colorbar": {
             "outlinewidth": 0,
             "ticks": ""
            },
            "colorscale": [
             [
              0,
              "#0d0887"
             ],
             [
              0.1111111111111111,
              "#46039f"
             ],
             [
              0.2222222222222222,
              "#7201a8"
             ],
             [
              0.3333333333333333,
              "#9c179e"
             ],
             [
              0.4444444444444444,
              "#bd3786"
             ],
             [
              0.5555555555555556,
              "#d8576b"
             ],
             [
              0.6666666666666666,
              "#ed7953"
             ],
             [
              0.7777777777777778,
              "#fb9f3a"
             ],
             [
              0.8888888888888888,
              "#fdca26"
             ],
             [
              1,
              "#f0f921"
             ]
            ],
            "type": "heatmapgl"
           }
          ],
          "histogram": [
           {
            "marker": {
             "colorbar": {
              "outlinewidth": 0,
              "ticks": ""
             }
            },
            "type": "histogram"
           }
          ],
          "histogram2d": [
           {
            "colorbar": {
             "outlinewidth": 0,
             "ticks": ""
            },
            "colorscale": [
             [
              0,
              "#0d0887"
             ],
             [
              0.1111111111111111,
              "#46039f"
             ],
             [
              0.2222222222222222,
              "#7201a8"
             ],
             [
              0.3333333333333333,
              "#9c179e"
             ],
             [
              0.4444444444444444,
              "#bd3786"
             ],
             [
              0.5555555555555556,
              "#d8576b"
             ],
             [
              0.6666666666666666,
              "#ed7953"
             ],
             [
              0.7777777777777778,
              "#fb9f3a"
             ],
             [
              0.8888888888888888,
              "#fdca26"
             ],
             [
              1,
              "#f0f921"
             ]
            ],
            "type": "histogram2d"
           }
          ],
          "histogram2dcontour": [
           {
            "colorbar": {
             "outlinewidth": 0,
             "ticks": ""
            },
            "colorscale": [
             [
              0,
              "#0d0887"
             ],
             [
              0.1111111111111111,
              "#46039f"
             ],
             [
              0.2222222222222222,
              "#7201a8"
             ],
             [
              0.3333333333333333,
              "#9c179e"
             ],
             [
              0.4444444444444444,
              "#bd3786"
             ],
             [
              0.5555555555555556,
              "#d8576b"
             ],
             [
              0.6666666666666666,
              "#ed7953"
             ],
             [
              0.7777777777777778,
              "#fb9f3a"
             ],
             [
              0.8888888888888888,
              "#fdca26"
             ],
             [
              1,
              "#f0f921"
             ]
            ],
            "type": "histogram2dcontour"
           }
          ],
          "mesh3d": [
           {
            "colorbar": {
             "outlinewidth": 0,
             "ticks": ""
            },
            "type": "mesh3d"
           }
          ],
          "parcoords": [
           {
            "line": {
             "colorbar": {
              "outlinewidth": 0,
              "ticks": ""
             }
            },
            "type": "parcoords"
           }
          ],
          "pie": [
           {
            "automargin": true,
            "type": "pie"
           }
          ],
          "scatter": [
           {
            "marker": {
             "colorbar": {
              "outlinewidth": 0,
              "ticks": ""
             }
            },
            "type": "scatter"
           }
          ],
          "scatter3d": [
           {
            "line": {
             "colorbar": {
              "outlinewidth": 0,
              "ticks": ""
             }
            },
            "marker": {
             "colorbar": {
              "outlinewidth": 0,
              "ticks": ""
             }
            },
            "type": "scatter3d"
           }
          ],
          "scattercarpet": [
           {
            "marker": {
             "colorbar": {
              "outlinewidth": 0,
              "ticks": ""
             }
            },
            "type": "scattercarpet"
           }
          ],
          "scattergeo": [
           {
            "marker": {
             "colorbar": {
              "outlinewidth": 0,
              "ticks": ""
             }
            },
            "type": "scattergeo"
           }
          ],
          "scattergl": [
           {
            "marker": {
             "colorbar": {
              "outlinewidth": 0,
              "ticks": ""
             }
            },
            "type": "scattergl"
           }
          ],
          "scattermapbox": [
           {
            "marker": {
             "colorbar": {
              "outlinewidth": 0,
              "ticks": ""
             }
            },
            "type": "scattermapbox"
           }
          ],
          "scatterpolar": [
           {
            "marker": {
             "colorbar": {
              "outlinewidth": 0,
              "ticks": ""
             }
            },
            "type": "scatterpolar"
           }
          ],
          "scatterpolargl": [
           {
            "marker": {
             "colorbar": {
              "outlinewidth": 0,
              "ticks": ""
             }
            },
            "type": "scatterpolargl"
           }
          ],
          "scatterternary": [
           {
            "marker": {
             "colorbar": {
              "outlinewidth": 0,
              "ticks": ""
             }
            },
            "type": "scatterternary"
           }
          ],
          "surface": [
           {
            "colorbar": {
             "outlinewidth": 0,
             "ticks": ""
            },
            "colorscale": [
             [
              0,
              "#0d0887"
             ],
             [
              0.1111111111111111,
              "#46039f"
             ],
             [
              0.2222222222222222,
              "#7201a8"
             ],
             [
              0.3333333333333333,
              "#9c179e"
             ],
             [
              0.4444444444444444,
              "#bd3786"
             ],
             [
              0.5555555555555556,
              "#d8576b"
             ],
             [
              0.6666666666666666,
              "#ed7953"
             ],
             [
              0.7777777777777778,
              "#fb9f3a"
             ],
             [
              0.8888888888888888,
              "#fdca26"
             ],
             [
              1,
              "#f0f921"
             ]
            ],
            "type": "surface"
           }
          ],
          "table": [
           {
            "cells": {
             "fill": {
              "color": "#EBF0F8"
             },
             "line": {
              "color": "white"
             }
            },
            "header": {
             "fill": {
              "color": "#C8D4E3"
             },
             "line": {
              "color": "white"
             }
            },
            "type": "table"
           }
          ]
         },
         "layout": {
          "annotationdefaults": {
           "arrowcolor": "#2a3f5f",
           "arrowhead": 0,
           "arrowwidth": 1
          },
          "autotypenumbers": "strict",
          "coloraxis": {
           "colorbar": {
            "outlinewidth": 0,
            "ticks": ""
           }
          },
          "colorscale": {
           "diverging": [
            [
             0,
             "#8e0152"
            ],
            [
             0.1,
             "#c51b7d"
            ],
            [
             0.2,
             "#de77ae"
            ],
            [
             0.3,
             "#f1b6da"
            ],
            [
             0.4,
             "#fde0ef"
            ],
            [
             0.5,
             "#f7f7f7"
            ],
            [
             0.6,
             "#e6f5d0"
            ],
            [
             0.7,
             "#b8e186"
            ],
            [
             0.8,
             "#7fbc41"
            ],
            [
             0.9,
             "#4d9221"
            ],
            [
             1,
             "#276419"
            ]
           ],
           "sequential": [
            [
             0,
             "#0d0887"
            ],
            [
             0.1111111111111111,
             "#46039f"
            ],
            [
             0.2222222222222222,
             "#7201a8"
            ],
            [
             0.3333333333333333,
             "#9c179e"
            ],
            [
             0.4444444444444444,
             "#bd3786"
            ],
            [
             0.5555555555555556,
             "#d8576b"
            ],
            [
             0.6666666666666666,
             "#ed7953"
            ],
            [
             0.7777777777777778,
             "#fb9f3a"
            ],
            [
             0.8888888888888888,
             "#fdca26"
            ],
            [
             1,
             "#f0f921"
            ]
           ],
           "sequentialminus": [
            [
             0,
             "#0d0887"
            ],
            [
             0.1111111111111111,
             "#46039f"
            ],
            [
             0.2222222222222222,
             "#7201a8"
            ],
            [
             0.3333333333333333,
             "#9c179e"
            ],
            [
             0.4444444444444444,
             "#bd3786"
            ],
            [
             0.5555555555555556,
             "#d8576b"
            ],
            [
             0.6666666666666666,
             "#ed7953"
            ],
            [
             0.7777777777777778,
             "#fb9f3a"
            ],
            [
             0.8888888888888888,
             "#fdca26"
            ],
            [
             1,
             "#f0f921"
            ]
           ]
          },
          "colorway": [
           "#636efa",
           "#EF553B",
           "#00cc96",
           "#ab63fa",
           "#FFA15A",
           "#19d3f3",
           "#FF6692",
           "#B6E880",
           "#FF97FF",
           "#FECB52"
          ],
          "font": {
           "color": "#2a3f5f"
          },
          "geo": {
           "bgcolor": "white",
           "lakecolor": "white",
           "landcolor": "#E5ECF6",
           "showlakes": true,
           "showland": true,
           "subunitcolor": "white"
          },
          "hoverlabel": {
           "align": "left"
          },
          "hovermode": "closest",
          "mapbox": {
           "style": "light"
          },
          "paper_bgcolor": "white",
          "plot_bgcolor": "#E5ECF6",
          "polar": {
           "angularaxis": {
            "gridcolor": "white",
            "linecolor": "white",
            "ticks": ""
           },
           "bgcolor": "#E5ECF6",
           "radialaxis": {
            "gridcolor": "white",
            "linecolor": "white",
            "ticks": ""
           }
          },
          "scene": {
           "xaxis": {
            "backgroundcolor": "#E5ECF6",
            "gridcolor": "white",
            "gridwidth": 2,
            "linecolor": "white",
            "showbackground": true,
            "ticks": "",
            "zerolinecolor": "white"
           },
           "yaxis": {
            "backgroundcolor": "#E5ECF6",
            "gridcolor": "white",
            "gridwidth": 2,
            "linecolor": "white",
            "showbackground": true,
            "ticks": "",
            "zerolinecolor": "white"
           },
           "zaxis": {
            "backgroundcolor": "#E5ECF6",
            "gridcolor": "white",
            "gridwidth": 2,
            "linecolor": "white",
            "showbackground": true,
            "ticks": "",
            "zerolinecolor": "white"
           }
          },
          "shapedefaults": {
           "line": {
            "color": "#2a3f5f"
           }
          },
          "ternary": {
           "aaxis": {
            "gridcolor": "white",
            "linecolor": "white",
            "ticks": ""
           },
           "baxis": {
            "gridcolor": "white",
            "linecolor": "white",
            "ticks": ""
           },
           "bgcolor": "#E5ECF6",
           "caxis": {
            "gridcolor": "white",
            "linecolor": "white",
            "ticks": ""
           }
          },
          "title": {
           "x": 0.05
          },
          "xaxis": {
           "automargin": true,
           "gridcolor": "white",
           "linecolor": "white",
           "ticks": "",
           "title": {
            "standoff": 15
           },
           "zerolinecolor": "white",
           "zerolinewidth": 2
          },
          "yaxis": {
           "automargin": true,
           "gridcolor": "white",
           "linecolor": "white",
           "ticks": "",
           "title": {
            "standoff": 15
           },
           "zerolinecolor": "white",
           "zerolinewidth": 2
          }
         }
        },
        "title": {
         "text": "Speed Dataset"
        },
        "xaxis": {
         "anchor": "y",
         "domain": [
          0,
          0.94
         ],
         "title": {
          "text": "Time (s)"
         }
        },
        "yaxis": {
         "anchor": "x",
         "domain": [
          0,
          1
         ],
         "title": {
          "text": "Speed (m/s)"
         }
        },
        "yaxis2": {
         "anchor": "x",
         "overlaying": "y",
         "side": "right"
        }
       }
      }
     },
     "metadata": {},
     "output_type": "display_data"
    }
   ],
   "source": [
    "figure = make_subplots(specs=[[{\"secondary_y\": True}]])\n",
    "\n",
    "figure.update_layout(\n",
    "    title=\"Speed Dataset\"\n",
    ")\n",
    "\n",
    "figure.add_trace(\n",
    "    go.Scatter(y=data['x_atual'], name='True'),\n",
    "    secondary_y=False\n",
    ")\n",
    "\n",
    "figure.add_trace(\n",
    "    go.Scatter(y=data['y_pred_py'], name='Predicted'),\n",
    "    secondary_y=False\n",
    ")\n",
    "\n",
    "figure.update_xaxes(title='Time (s)')\n",
    "figure.update_yaxes(title='Speed (m/s)', secondary_y=False)\n",
    "figure.show()"
   ]
  },
  {
   "cell_type": "markdown",
   "metadata": {},
   "source": [
    "# 4. Metrics evaluation:"
   ]
  },
  {
   "cell_type": "markdown",
   "metadata": {},
   "source": [
    "### 4.1 Metric: MSE"
   ]
  },
  {
   "cell_type": "code",
   "execution_count": 8,
   "metadata": {},
   "outputs": [],
   "source": [
    "from sklearn.metrics import mean_squared_error, mean_absolute_error"
   ]
  },
  {
   "cell_type": "code",
   "execution_count": 9,
   "metadata": {},
   "outputs": [
    {
     "data": {
      "text/plain": [
       "1.2827812457447816"
      ]
     },
     "execution_count": 9,
     "metadata": {},
     "output_type": "execute_result"
    }
   ],
   "source": [
    "mse = mean_squared_error(data['x_atual'], data['y_pred_py'])\n",
    "mse"
   ]
  },
  {
   "cell_type": "code",
   "execution_count": 10,
   "metadata": {},
   "outputs": [
    {
     "data": {
      "text/plain": [
       "0.8266216644629575"
      ]
     },
     "execution_count": 10,
     "metadata": {},
     "output_type": "execute_result"
    }
   ],
   "source": [
    "mae = mean_absolute_error(data['x_atual'], data['y_pred_py'])\n",
    "mae"
   ]
  },
  {
   "cell_type": "markdown",
   "metadata": {},
   "source": [
    "### 4.2 \"Grid Search\" to understand the Regularization parameter:"
   ]
  },
  {
   "cell_type": "markdown",
   "metadata": {},
   "source": [
    "Now, we are going to use several **Regularization** values to see the RLS Filter behavior. In this Section, the metric used will be the mean squared error (MSE)."
   ]
  },
  {
   "cell_type": "markdown",
   "metadata": {},
   "source": [
    "We are going to use as constant:\n",
    " - Initial weights = [0, 0]\n",
    " - Filter order = 2 \n",
    " - Forgetting factor = 0.99\n",
    "\n",
    " And we will variate the Regularization factor ($\\delta$):\n"
   ]
  },
  {
   "cell_type": "code",
   "execution_count": 11,
   "metadata": {},
   "outputs": [],
   "source": [
    "filter_order = 2                        #filter_order equivalent to window size\n",
    "forgetting_factor = 0.99                #Forgetting factor: It is introduced to give exponentially less weight to older error samples. It is usually chosen between 0.98 and 1.\n",
    "w0 = np.zeros(filter_order).tolist()    #Initial weights\n",
    "X_ant = np.zeros(filter_order).tolist() #Initial previous input\n",
    "Y_py = []                               #Results\n",
    "Ya_py = []\n",
    "y_pred_py = 0.0"
   ]
  },
  {
   "cell_type": "code",
   "execution_count": 12,
   "metadata": {},
   "outputs": [],
   "source": [
    "# Regularization values\n",
    "DELTA = [0.01, 0.1, 0.5, 0.75, 0.9, 1, 2.5, 5, 10, 20, 50, 100]"
   ]
  },
  {
   "cell_type": "code",
   "execution_count": 13,
   "metadata": {},
   "outputs": [],
   "source": [
    "MSE = []\n",
    "MAE = []\n",
    "for delta_i in DELTA:\n",
    "    rls_filter = RLSFilter(n = filter_order, mu = forgetting_factor, delta=delta_i, w=w0)\n",
    "    for i in data['x_atual']:\n",
    "        ## Acquiring the data input\n",
    "        valor_atual = i\n",
    "\n",
    "        #Saving \n",
    "        Ya_py.append(y_pred_py)\n",
    "\n",
    "        # Updating weights\n",
    "        rls_filter.update(valor_atual, np.array(X_ant))\n",
    "        input_vector = []\n",
    "        for j in X_ant[1:]:\n",
    "            input_vector.append(j)\n",
    "        input_vector.append(valor_atual)\n",
    "\n",
    "        #Predicting the next value\n",
    "        y_pred_py = rls_filter.filter(input_vector)\n",
    "        Y_py.append(y_pred_py)\n",
    "\n",
    "        #Updating previous values vector\n",
    "        X_ant = input_vector\n",
    "    \n",
    "    mse = mean_squared_error(data['x_atual'], Y_py)\n",
    "    mae = mean_absolute_error(data['x_atual'], Y_py)\n",
    "    MSE.append(mse)\n",
    "    MAE.append(mae)    \n",
    "    Ya_py = []\n",
    "    Y_py = []\n",
    "    y_pred_py = 0.0\n",
    "    w0 = np.zeros(filter_order).tolist()    #Initial weights\n",
    "    X_ant = np.zeros(filter_order).tolist() #Initial previous input"
   ]
  },
  {
   "cell_type": "markdown",
   "metadata": {},
   "source": [
    "## Regularization factor x MSE"
   ]
  },
  {
   "cell_type": "code",
   "execution_count": null,
   "metadata": {},
   "outputs": [],
   "source": [
    "fig, ax = plt.subplots(figsize = (15,7.7))\n",
    "ax.scatter(x=DELTA, y=MSE, linewidth=2.5, s=110, alpha=0.7, edgecolors=\"b\")\n",
    "plt.title(\"Regularization factor x MSE\", fontsize=20)\n",
    "plt.xlabel(\"Regularization factor\", fontsize=16)\n",
    "plt.ylabel(\"Mean squared error (MSE)\", fontsize=16)\n",
    "#ax.set_yscale('log')\n",
    "ax.set_xscale('log')\n",
    "plt.xticks(fontsize=15)\n",
    "#plt.yticks(fontsize=15)\n",
    "plt.grid()\n",
    "plt.show()"
   ]
  },
  {
   "cell_type": "markdown",
   "metadata": {},
   "source": [
    "## Regularization factor x MAE"
   ]
  },
  {
   "cell_type": "code",
   "execution_count": 17,
   "metadata": {},
   "outputs": [
    {
     "data": {
      "image/png": "[encoded data removed]",
      "text/plain": [
       "<Figure size 1080x554.4 with 1 Axes>"
      ]
     },
     "metadata": {
      "needs_background": "light"
     },
     "output_type": "display_data"
    }
   ],
   "source": [
    "fig, ax = plt.subplots(figsize = (15,7.7))\n",
    "ax.scatter(x=DELTA, y=MAE, linewidth=2.5, s=110, alpha=0.7, edgecolors=\"b\")\n",
    "plt.title(\"Regularization factor x MAE\", fontsize=20)\n",
    "plt.xlabel(\"Regularization factor\", fontsize=16)\n",
    "plt.ylabel(\"Mean absolute error (MAE)\", fontsize=16)\n",
    "#ax.set_yscale('log')\n",
    "ax.set_xscale('log')\n",
    "plt.xticks(fontsize=15)\n",
    "#plt.yticks(fontsize=15)\n",
    "plt.grid()\n",
    "plt.show()"
   ]
  },
  {
   "cell_type": "markdown",
   "metadata": {},
   "source": [
    "# 5. WandB"
   ]
  },
  {
   "cell_type": "markdown",
   "metadata": {},
   "source": [
    "## 5.1 WandB importing"
   ]
  },
  {
   "cell_type": "code",
   "execution_count": 18,
   "metadata": {},
   "outputs": [],
   "source": [
    "#!pip install wandb"
   ]
  },
  {
   "cell_type": "code",
   "execution_count": 19,
   "metadata": {},
   "outputs": [],
   "source": [
    "import wandb\n",
    "import logging"
   ]
  },
  {
   "cell_type": "code",
   "execution_count": 20,
   "metadata": {},
   "outputs": [
    {
     "name": "stderr",
     "output_type": "stream",
     "text": [
      "wandb: Appending key for api.wandb.ai to your netrc file: C:\\Users\\Samsung/.netrc\n"
     ]
    }
   ],
   "source": [
    "!wandb login 40f0acf51f839c9bfbed5c1f24e945ed8245e110"
   ]
  },
  {
   "cell_type": "markdown",
   "metadata": {},
   "source": [
    "#### Initialize a new W&B run to track this job"
   ]
  },
  {
   "cell_type": "code",
   "execution_count": 21,
   "metadata": {},
   "outputs": [
    {
     "name": "stderr",
     "output_type": "stream",
     "text": [
      "Failed to detect the name of this notebook, you can set it manually with the WANDB_NOTEBOOK_NAME environment variable to enable code saving.\n",
      "wandb: Currently logged in as: pedrohmeira (embarca-ai). Use `wandb login --relogin` to force relogin\n"
     ]
    },
    {
     "data": {
      "text/html": [
       "wandb version 0.15.11 is available!  To upgrade, please run:\n",
       " $ pip install wandb --upgrade"
      ],
      "text/plain": [
       "<IPython.core.display.HTML object>"
      ]
     },
     "metadata": {},
     "output_type": "display_data"
    },
    {
     "data": {
      "text/html": [
       "Tracking run with wandb version 0.14.0"
      ],
      "text/plain": [
       "<IPython.core.display.HTML object>"
      ]
     },
     "metadata": {},
     "output_type": "display_data"
    },
    {
     "data": {
      "text/html": [
       "Run data is saved locally in <code>c:\\Users\\Samsung\\Desktop\\Pedro\\UFRN\\Portfolio\\Publicados\\TEDA RLS\\Python\\wandb\\run-20231003_203522-ampcrg4o</code>"
      ],
      "text/plain": [
       "<IPython.core.display.HTML object>"
      ]
     },
     "metadata": {},
     "output_type": "display_data"
    },
    {
     "data": {
      "text/html": [
       "Syncing run <strong><a href='https://wandb.ai/embarca-ai/TEDARegressor/runs/ampcrg4o' target=\"_blank\">unique-capybara-538</a></strong> to <a href='https://wandb.ai/embarca-ai/TEDARegressor' target=\"_blank\">Weights & Biases</a> (<a href='https://wandb.me/run' target=\"_blank\">docs</a>)<br/>"
      ],
      "text/plain": [
       "<IPython.core.display.HTML object>"
      ]
     },
     "metadata": {},
     "output_type": "display_data"
    },
    {
     "data": {
      "text/html": [
       " View project at <a href='https://wandb.ai/embarca-ai/TEDARegressor' target=\"_blank\">https://wandb.ai/embarca-ai/TEDARegressor</a>"
      ],
      "text/plain": [
       "<IPython.core.display.HTML object>"
      ]
     },
     "metadata": {},
     "output_type": "display_data"
    },
    {
     "data": {
      "text/html": [
       " View run at <a href='https://wandb.ai/embarca-ai/TEDARegressor/runs/ampcrg4o' target=\"_blank\">https://wandb.ai/embarca-ai/TEDARegressor/runs/ampcrg4o</a>"
      ],
      "text/plain": [
       "<IPython.core.display.HTML object>"
      ]
     },
     "metadata": {},
     "output_type": "display_data"
    }
   ],
   "source": [
    "run = wandb.init(project=\"TEDARegressor\", job_type=\"dataset-creation\")"
   ]
  },
  {
   "cell_type": "code",
   "execution_count": 22,
   "metadata": {},
   "outputs": [
    {
     "data": {
      "text/plain": [
       "<wandb.sdk.wandb_artifacts.Artifact at 0x23564305d30>"
      ]
     },
     "execution_count": 22,
     "metadata": {},
     "output_type": "execute_result"
    }
   ],
   "source": [
    "# Create a new artifact, which is a sample dataset\n",
    "dataset = wandb.Artifact('Speed', type='dataset')\n",
    "# Add files to the artifact, in this case a simple text file\n",
    "dataset.add_file('Speed.xlsx')\n",
    "# Log the artifact to save it as an output of this run\n",
    "run.log_artifact(dataset)"
   ]
  },
  {
   "cell_type": "markdown",
   "metadata": {},
   "source": [
    "### Configure logging:"
   ]
  },
  {
   "cell_type": "code",
   "execution_count": 23,
   "metadata": {},
   "outputs": [],
   "source": [
    "logging.basicConfig(level=logging.INFO,\n",
    "                    format=\"%(asctime)s %(message)s\",\n",
    "                    datefmt='%d-%m-%Y %H:%M:%S')\n",
    "\n",
    "# reference for a logging obj\n",
    "logger = logging.getLogger()"
   ]
  },
  {
   "cell_type": "markdown",
   "metadata": {},
   "source": [
    "### Defining dictionaries:"
   ]
  },
  {
   "cell_type": "markdown",
   "metadata": {},
   "source": [
    "1. Metric dictionary:"
   ]
  },
  {
   "cell_type": "code",
   "execution_count": 24,
   "metadata": {},
   "outputs": [],
   "source": [
    "metric_dict = {\n",
    "    'name': 'mse',\n",
    "    'goal': 'minimize'   \n",
    "    }"
   ]
  },
  {
   "cell_type": "markdown",
   "metadata": {},
   "source": [
    "2. Parameters dictionary:"
   ]
  },
  {
   "cell_type": "code",
   "execution_count": 25,
   "metadata": {},
   "outputs": [],
   "source": [
    "parameters_dict = {\n",
    "    #RLS\n",
    "    'FilterOrder': {\n",
    "      'values': [2,3,4]\n",
    "    },\n",
    "    'Forgetting': {\n",
    "          'values': [0.1, 0.5, 0.75, 0.98, 0.99, 0.999, 1]\n",
    "        },    \n",
    "    'Regularization': {\n",
    "          'values': [0.01, 0.1, 0.5, 0.75, 0.9, 1, 2.5, 5, 10, 20, 50, 100]         \n",
    "        },\n",
    "}"
   ]
  },
  {
   "cell_type": "markdown",
   "metadata": {},
   "source": [
    "### Defining Sweep:"
   ]
  },
  {
   "cell_type": "code",
   "execution_count": 26,
   "metadata": {},
   "outputs": [
    {
     "name": "stdout",
     "output_type": "stream",
     "text": [
      "Create sweep with ID: 75l4ftw2\n",
      "Sweep URL: https://wandb.ai/embarca-ai/TEDARegressor/sweeps/75l4ftw2\n"
     ]
    }
   ],
   "source": [
    "seed = 41\n",
    "sweep_config = {\n",
    "    \"method\": \"grid\",\n",
    "    \"metric\": metric_dict,\n",
    "    \"parameters\": parameters_dict,\n",
    "\n",
    "}\n",
    "sweep_id = wandb.sweep(sweep_config, project=\"TEDARegressor\")"
   ]
  },
  {
   "cell_type": "markdown",
   "metadata": {},
   "source": [
    "### Training:"
   ]
  },
  {
   "cell_type": "code",
   "execution_count": 27,
   "metadata": {},
   "outputs": [],
   "source": [
    "def train():\n",
    "    with wandb.init() as run:\n",
    "        N_order = wandb.config.FilterOrder\n",
    "        Ya_py = []\n",
    "        Y_py = []\n",
    "        y_pred_py = 0\n",
    "        w0 = np.zeros(N_order).tolist()    #Initial weights\n",
    "        X_ant = np.zeros(N_order).tolist() #Initial previous input     \n",
    "        \n",
    "        rls_filter = RLSFilter(n = N_order, mu = wandb.config.Forgetting, delta=wandb.config.Regularization, w=w0)\n",
    "        \n",
    "        for i in data['x_atual']:\n",
    "            ## Acquiring the data input\n",
    "            valor_atual = i\n",
    "\n",
    "            #Saving \n",
    "            Ya_py.append(y_pred_py)\n",
    "\n",
    "            # Updating weights\n",
    "            rls_filter.update(valor_atual, np.array(X_ant))\n",
    "            input_vector = []\n",
    "            for j in X_ant[1:]:\n",
    "                input_vector.append(j)\n",
    "            input_vector.append(valor_atual)\n",
    "\n",
    "            #Predicting the next value\n",
    "            y_pred_py = rls_filter.filter(input_vector)\n",
    "            Y_py.append(y_pred_py)\n",
    "\n",
    "            #Updating previous values vector\n",
    "            X_ant = input_vector\n",
    "        \n",
    "        mse = mean_squared_error(data['x_atual'], Y_py)\n",
    "        mae = mean_absolute_error(data['x_atual'], Y_py)\n",
    "        MSE.append(mse)\n",
    "        MAE.append(mae)\n",
    "        Ya_py = []\n",
    "        Y_py = []\n",
    "        y_pred_py = 0\n",
    "        w0 = np.zeros(N_order).tolist()    #Initial weights\n",
    "        X_ant = np.zeros(N_order).tolist() #Initial previous input\n",
    "\n",
    "        # MSE\n",
    "        run.summary['mse'] = mse\n",
    "        wandb.log({\"mse\": mse})\n",
    "        # MAE\n",
    "        run.summary['mae'] = mae\n",
    "        wandb.log({\"mae\": mae})        "
   ]
  },
  {
   "cell_type": "code",
   "execution_count": null,
   "metadata": {},
   "outputs": [],
   "source": [
    "wandb.agent(sweep_id, train)"
   ]
  },
  {
   "cell_type": "markdown",
   "metadata": {},
   "source": [
    "## 5.2 Visualization Results"
   ]
  },
  {
   "cell_type": "markdown",
   "metadata": {},
   "source": [
    "Here, we can visualize the Sweep Results 👀. We have use the **Parallel Coordinates Plot 🔀** to map hyperparameter values to model metrics.\n",
    "We've used to see the combinations of hyperparameters that led to the **best model performance (minor MSE) 📊**:\n",
    "\n",
    "\n",
    "#### RLS Sweep - Speed Data\n",
    "\n",
    "![RLS Sweep - Speed Data](figures/Speed/Speed_sweep.png)"
   ]
  },
  {
   "cell_type": "markdown",
   "metadata": {},
   "source": [
    "## Best Setup -> Minor MSE:\n",
    "### - MSE = 0.2407\n",
    "### - MAE = 0.2886\n",
    " - Filter order: 2\n",
    " - Forgetting factor ($\\lambda$): 1\n",
    " - Regularization factor ($\\delta$): 10"
   ]
  },
  {
   "cell_type": "markdown",
   "metadata": {},
   "source": [
    "## MSE Parameter Importance:"
   ]
  },
  {
   "cell_type": "markdown",
   "metadata": {},
   "source": [
    "![Parameter Importance - Speed Data](figures/Speed/Speed_parameter_importance_MSE.png)"
   ]
  },
  {
   "cell_type": "markdown",
   "metadata": {},
   "source": [
    "## MAE Parameter Importance:"
   ]
  },
  {
   "cell_type": "markdown",
   "metadata": {},
   "source": [
    "![Parameter Importance - Speed Data](figures/Speed/Speed_parameter_importance_MAE.png)"
   ]
  },
  {
   "cell_type": "code",
   "execution_count": 10,
   "metadata": {},
   "outputs": [
    {
     "data": {
      "text/html": [
       "<div>\n",
       "<style scoped>\n",
       "    .dataframe tbody tr th:only-of-type {\n",
       "        vertical-align: middle;\n",
       "    }\n",
       "\n",
       "    .dataframe tbody tr th {\n",
       "        vertical-align: top;\n",
       "    }\n",
       "\n",
       "    .dataframe thead th {\n",
       "        text-align: right;\n",
       "    }\n",
       "</style>\n",
       "<table border=\"1\" class=\"dataframe\">\n",
       "  <thead>\n",
       "    <tr style=\"text-align: right;\">\n",
       "      <th></th>\n",
       "      <th>Config parameter</th>\n",
       "      <th>Importance</th>\n",
       "      <th>Correlation</th>\n",
       "    </tr>\n",
       "  </thead>\n",
       "  <tbody>\n",
       "    <tr>\n",
       "      <th>0</th>\n",
       "      <td>Forgetting</td>\n",
       "      <td>0.626</td>\n",
       "      <td>-0.759</td>\n",
       "    </tr>\n",
       "    <tr>\n",
       "      <th>1</th>\n",
       "      <td>Regularization</td>\n",
       "      <td>0.321</td>\n",
       "      <td>0.430</td>\n",
       "    </tr>\n",
       "    <tr>\n",
       "      <th>2</th>\n",
       "      <td>Filter Order</td>\n",
       "      <td>0.054</td>\n",
       "      <td>0.347</td>\n",
       "    </tr>\n",
       "  </tbody>\n",
       "</table>\n",
       "</div>"
      ],
      "text/plain": [
       "  Config parameter  Importance  Correlation\n",
       "0       Forgetting       0.626       -0.759\n",
       "1   Regularization       0.321        0.430\n",
       "2     Filter Order       0.054        0.347"
      ]
     },
     "execution_count": 10,
     "metadata": {},
     "output_type": "execute_result"
    }
   ],
   "source": [
    "MSE_parameter_importance = pd.read_excel(\"figures/Speed/Speed_parameter_importance_MSE.xlsx\")\n",
    "MSE_parameter_importance.head()"
   ]
  },
  {
   "cell_type": "code",
   "execution_count": 11,
   "metadata": {},
   "outputs": [
    {
     "data": {
      "text/html": [
       "<div>\n",
       "<style scoped>\n",
       "    .dataframe tbody tr th:only-of-type {\n",
       "        vertical-align: middle;\n",
       "    }\n",
       "\n",
       "    .dataframe tbody tr th {\n",
       "        vertical-align: top;\n",
       "    }\n",
       "\n",
       "    .dataframe thead th {\n",
       "        text-align: right;\n",
       "    }\n",
       "</style>\n",
       "<table border=\"1\" class=\"dataframe\">\n",
       "  <thead>\n",
       "    <tr style=\"text-align: right;\">\n",
       "      <th></th>\n",
       "      <th>Config parameter</th>\n",
       "      <th>Importance</th>\n",
       "      <th>Correlation</th>\n",
       "    </tr>\n",
       "  </thead>\n",
       "  <tbody>\n",
       "    <tr>\n",
       "      <th>0</th>\n",
       "      <td>Forgetting</td>\n",
       "      <td>0.479</td>\n",
       "      <td>0.586</td>\n",
       "    </tr>\n",
       "    <tr>\n",
       "      <th>1</th>\n",
       "      <td>Regularization</td>\n",
       "      <td>0.339</td>\n",
       "      <td>-0.605</td>\n",
       "    </tr>\n",
       "    <tr>\n",
       "      <th>2</th>\n",
       "      <td>Filter Order</td>\n",
       "      <td>0.182</td>\n",
       "      <td>0.551</td>\n",
       "    </tr>\n",
       "  </tbody>\n",
       "</table>\n",
       "</div>"
      ],
      "text/plain": [
       "  Config parameter  Importance  Correlation\n",
       "0       Forgetting       0.479        0.586\n",
       "1   Regularization       0.339       -0.605\n",
       "2     Filter Order       0.182        0.551"
      ]
     },
     "execution_count": 11,
     "metadata": {},
     "output_type": "execute_result"
    }
   ],
   "source": [
    "MAE_parameter_importance = pd.read_excel(\"figures/Speed/Speed_parameter_importance_MAE.xlsx\")\n",
    "MAE_parameter_importance.head()"
   ]
  },
  {
   "cell_type": "markdown",
   "metadata": {},
   "source": [
    "# 6. References\n",
    "\n",
    "[[1]](https://www.researchgate.net/publication/301411485_Anomaly_detection_based_on_eccentricity_analysis) Angelov, Plamen. (2014). *Anomaly detection based on eccentricity analysis*. 1-8. 10.1109/EALS.2014.7009497. \n",
    "\n",
    "\n",
    "\n",
    "[[2]](https://www.mdpi.com/1424-8220/22/10/3838) Andrade, P.; Silva, I.; Silva, M.; Flores, T.; Cassiano, J.; Costa, D.G. *A TinyML Soft-Sensor Approach for Low-Cost Detection and Monitoring of Vehicular Emissions*. Sensors 2022, 22, 3838. doi: 10.3390/s22103838\n",
    "\n",
    "[[3]](https://ieeexplore.ieee.org/document/536707) A. Bernieri, G. Betta and C. Liguori, *\"On-line fault detection and diagnosis obtained by implementing neural algorithms on a digital signal processor\"* in IEEE Transactions on Instrumentation and Measurement, vol. 45, no. 5, pp. 894-899, Oct. 1996, doi: 10.1109/19.536707."
   ]
  }
 ],
 "metadata": {
  "colab": {
   "authorship_tag": "ABX9TyNLZCZpHdSXWy2xeKwk3pD0",
   "collapsed_sections": [],
   "name": "TesteFree_CO2.ipynb",
   "provenance": [],
   "toc_visible": true
  },
  "kernelspec": {
   "display_name": "Python 3.8.5 ('base')",
   "language": "python",
   "name": "python3"
  },
  "language_info": {
   "codemirror_mode": {
    "name": "ipython",
    "version": 3
   },
   "file_extension": ".py",
   "mimetype": "text/x-python",
   "name": "python",
   "nbconvert_exporter": "python",
   "pygments_lexer": "ipython3",
   "version": "3.8.5"
  },
  "vscode": {
   "interpreter": {
    "hash": "33bea494317c8c22a4760028ceed23349c4667bf8f6d1305a13b8d31b6e7f27d"
   }
  }
 },
 "nbformat": 4,
 "nbformat_minor": 1
}
