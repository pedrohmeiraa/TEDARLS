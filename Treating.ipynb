{
 "cells": [
  {
   "cell_type": "markdown",
   "metadata": {
    "colab_type": "text",
    "id": "ofwtcgvWTtOW"
   },
   "source": [
    "# **Comparing Freematics, Arduino, C++ e Python**"
   ]
  },
  {
   "cell_type": "markdown",
   "metadata": {
    "colab_type": "text",
    "id": "kPHjZ4iMUCjh"
   },
   "source": [
    "## 1. Modules import"
   ]
  },
  {
   "cell_type": "code",
   "execution_count": 1,
   "metadata": {
    "colab": {
     "base_uri": "https://localhost:8080/",
     "height": 71
    },
    "colab_type": "code",
    "executionInfo": {
     "elapsed": 3043,
     "status": "ok",
     "timestamp": 1594664992056,
     "user": {
      "displayName": "PEDRO ANDRADE",
      "photoUrl": "https://lh3.googleusercontent.com/a-/AOh14Gg7rX8Ay3ygspOgL2OSlmHq-_pe_-2BIgJmuTv5=s64",
      "userId": "01424737486386709382"
     },
     "user_tz": 180
    },
    "id": "kc6XdrfD9hd5",
    "outputId": "ffd7e1ee-f1d5-42a6-d770-a5e69e5d754c"
   },
   "outputs": [],
   "source": [
    "import numpy as np\n",
    "import pandas as pd\n",
    "import matplotlib.pyplot as plt\n",
    "import matplotlib.dates as dt\n",
    "import seaborn as sns\n",
    "from sklearn import preprocessing\n",
    "import plotly.graph_objects as go\n",
    "from plotly.subplots import make_subplots\n",
    "import plotly.express as px\n",
    "from random import randint, sample\n",
    "import time"
   ]
  },
  {
   "cell_type": "code",
   "execution_count": 2,
   "metadata": {
    "colab": {},
    "colab_type": "code",
    "id": "0XA-n1vBrxG3"
   },
   "outputs": [],
   "source": [
    "from teda import TEDA\n",
    "#from RLSFilter_round import RLSFilter\n",
    "from RLSFilter import RLSFilter"
   ]
  },
  {
   "cell_type": "markdown",
   "metadata": {
    "colab_type": "text",
    "id": "s2f127LXUJQ5"
   },
   "source": [
    "## 2. Data import"
   ]
  },
  {
   "cell_type": "markdown",
   "metadata": {},
   "source": [
    "## 2.1 Freematics data"
   ]
  },
  {
   "cell_type": "code",
   "execution_count": 5,
   "metadata": {},
   "outputs": [],
   "source": [
    "data1 = pd.read_csv(\"experiments/teda_rls_05092023_teste_1.csv\", index_col=0)\n",
    "data2 = pd.read_csv(\"experiments/teda_rls_05092023_teste_2.csv\", index_col=0)\n",
    "data3 = pd.read_csv(\"experiments/teda_rls_05092023_teste_3.csv\", index_col=0)\n",
    "data1['x_atual'] = data1['x_atual'].astype('float')\n",
    "data2['x_atual'] = data2['x_atual'].astype('float')\n",
    "data3['x_atual'] = data3['x_atual'].astype('float')"
   ]
  },
  {
   "cell_type": "code",
   "execution_count": 4,
   "metadata": {},
   "outputs": [
    {
     "data": {
      "text/html": [
       "<div>\n",
       "<style scoped>\n",
       "    .dataframe tbody tr th:only-of-type {\n",
       "        vertical-align: middle;\n",
       "    }\n",
       "\n",
       "    .dataframe tbody tr th {\n",
       "        vertical-align: top;\n",
       "    }\n",
       "\n",
       "    .dataframe thead th {\n",
       "        text-align: right;\n",
       "    }\n",
       "</style>\n",
       "<table border=\"1\" class=\"dataframe\">\n",
       "  <thead>\n",
       "    <tr style=\"text-align: right;\">\n",
       "      <th></th>\n",
       "      <th>x_ant</th>\n",
       "      <th>x_atual</th>\n",
       "      <th>flag</th>\n",
       "      <th>x_antp</th>\n",
       "      <th>x_atualp</th>\n",
       "      <th>y_pred</th>\n",
       "      <th>time_teda</th>\n",
       "      <th>time_rls</th>\n",
       "      <th>time_total</th>\n",
       "      <th>acc_x</th>\n",
       "      <th>acc_y</th>\n",
       "      <th>acc_z</th>\n",
       "    </tr>\n",
       "  </thead>\n",
       "  <tbody>\n",
       "    <tr>\n",
       "      <th>0</th>\n",
       "      <td>0.0</td>\n",
       "      <td>0</td>\n",
       "      <td>1</td>\n",
       "      <td>0.0</td>\n",
       "      <td>0.0</td>\n",
       "      <td>0.0</td>\n",
       "      <td>44</td>\n",
       "      <td>112</td>\n",
       "      <td>323</td>\n",
       "      <td>-0.01</td>\n",
       "      <td>0.00</td>\n",
       "      <td>0.00</td>\n",
       "    </tr>\n",
       "    <tr>\n",
       "      <th>1</th>\n",
       "      <td>0.0</td>\n",
       "      <td>0</td>\n",
       "      <td>0</td>\n",
       "      <td>0.0</td>\n",
       "      <td>0.0</td>\n",
       "      <td>0.0</td>\n",
       "      <td>85</td>\n",
       "      <td>99</td>\n",
       "      <td>343</td>\n",
       "      <td>-0.01</td>\n",
       "      <td>0.01</td>\n",
       "      <td>0.01</td>\n",
       "    </tr>\n",
       "    <tr>\n",
       "      <th>2</th>\n",
       "      <td>0.0</td>\n",
       "      <td>0</td>\n",
       "      <td>0</td>\n",
       "      <td>0.0</td>\n",
       "      <td>0.0</td>\n",
       "      <td>0.0</td>\n",
       "      <td>58</td>\n",
       "      <td>104</td>\n",
       "      <td>320</td>\n",
       "      <td>0.00</td>\n",
       "      <td>0.01</td>\n",
       "      <td>0.01</td>\n",
       "    </tr>\n",
       "    <tr>\n",
       "      <th>3</th>\n",
       "      <td>0.0</td>\n",
       "      <td>0</td>\n",
       "      <td>0</td>\n",
       "      <td>0.0</td>\n",
       "      <td>0.0</td>\n",
       "      <td>0.0</td>\n",
       "      <td>65</td>\n",
       "      <td>107</td>\n",
       "      <td>330</td>\n",
       "      <td>-0.01</td>\n",
       "      <td>0.00</td>\n",
       "      <td>-0.01</td>\n",
       "    </tr>\n",
       "    <tr>\n",
       "      <th>4</th>\n",
       "      <td>0.0</td>\n",
       "      <td>3</td>\n",
       "      <td>0</td>\n",
       "      <td>0.0</td>\n",
       "      <td>3.0</td>\n",
       "      <td>0.0</td>\n",
       "      <td>88</td>\n",
       "      <td>99</td>\n",
       "      <td>345</td>\n",
       "      <td>-0.05</td>\n",
       "      <td>0.01</td>\n",
       "      <td>-0.09</td>\n",
       "    </tr>\n",
       "  </tbody>\n",
       "</table>\n",
       "</div>"
      ],
      "text/plain": [
       "   x_ant  x_atual  flag  x_antp  x_atualp  y_pred  time_teda  time_rls  \\\n",
       "0    0.0        0     1     0.0       0.0     0.0         44       112   \n",
       "1    0.0        0     0     0.0       0.0     0.0         85        99   \n",
       "2    0.0        0     0     0.0       0.0     0.0         58       104   \n",
       "3    0.0        0     0     0.0       0.0     0.0         65       107   \n",
       "4    0.0        3     0     0.0       3.0     0.0         88        99   \n",
       "\n",
       "   time_total  acc_x  acc_y  acc_z  \n",
       "0         323  -0.01   0.00   0.00  \n",
       "1         343  -0.01   0.01   0.01  \n",
       "2         320   0.00   0.01   0.01  \n",
       "3         330  -0.01   0.00  -0.01  \n",
       "4         345  -0.05   0.01  -0.09  "
      ]
     },
     "execution_count": 4,
     "metadata": {},
     "output_type": "execute_result"
    }
   ],
   "source": [
    "#data['x_atual'] = data['x_atual'].astype('float')\n",
    "data1.head()"
   ]
  },
  {
   "cell_type": "markdown",
   "metadata": {},
   "source": [
    "#### Creating a timestamp:"
   ]
  },
  {
   "cell_type": "code",
   "execution_count": null,
   "metadata": {},
   "outputs": [],
   "source": [
    "t_samples = np.linspace(0, len(data), num=len(data))"
   ]
  },
  {
   "cell_type": "markdown",
   "metadata": {},
   "source": [
    "## 2.2 Arduino data"
   ]
  },
  {
   "cell_type": "code",
   "execution_count": null,
   "metadata": {},
   "outputs": [],
   "source": [
    "#data_arduino = pd.read_excel(\"comparison_arduino.xlsx\")\n",
    "#data['y_pred_ar'] = data_arduino['y_pred_ar']"
   ]
  },
  {
   "cell_type": "markdown",
   "metadata": {},
   "source": [
    "## 2.3 C++ data\n",
    "### Check the C++ Repository [here](https://github.com/pedrohmeiraa)."
   ]
  },
  {
   "cell_type": "code",
   "execution_count": null,
   "metadata": {},
   "outputs": [],
   "source": [
    "#24/08/2023\n",
    "#y_pred_cpp = [0, 0, 0, 49.9716, 49.9811, 49.9849, 49.9871, 49.9885, 49.9896, 49.9904, 49.9911, 49.9916, 49.9921, 49.9925, 49.9928, 49.9931, 49.9934, 49.9936, 49.9939, 49.9941, 49.9943, 49.9887, 49.9831, 49.9775, 49.9719, 49.9664, 79.9911, 84.1324, 86.2707, 89.3585, 94.5297, 103.883, 106.214, 108.574, 110.987, 149.245, 148.373, 146.704, 144.275, 140.836, 134.344, 120.651, 104.843, 88.1938, 72.7314, 56.4191, 41.2137, 36.1291, 32.102, 32.0929, 32.0927, 101.292, 100.717, 100.684, 100.671, 100.659, 100.647, 100.636, 102.638, 106.687, 111.78, 118.913, 135.176, 146.652, 151.981, 158.156, 158.275, 158.207, 158.143, 154.031, 145.777, 130.391, 113.949, 102.638, 83.4144, 63.1962, 44.0676, 35.0143, 26.0009, 18.995, 18.9917, 22.9899, 30.9887, 45.9916, 61.017, 77.0744, 93.1806, 97.3072, 99.3476, 103.378, 105.423, 107.448, 109.473, 113.508, 116.563, 119.608, 122.655, 122.686, 122.677, 122.668, 121.654, 115.602, 109.498, 103.407, 98.3312, 90.2642, 85.1942, 79.151, 73.1091, 64.071, 58.0337, 53.0145, 44.0018, 44.9845, 49.9846, 49.9938, 45.9943, 38.9888, 24.9861, 8.99089, 0, 0, 4.99291, 10.9844, 17.975, 31.9577, 47.9473, 58.9626, 64.9901, 71.0122, 77.0407, 88.0807, 103.174, 114.329, 120.467, 131.584, 147.819, 164.192, 179.634, 196.133, 212.726, 215.91, 219.127, 222.394, 228.354, 214.22, 197.525, 181.931, 165.462, 150.079, 133.781, 117.537, 102.354, 86.2212, 70.1219, 54.0565, 39.0188, 23.0016, 17.9956, 17.9945, 17.9945, 17.9945, 17.9945, 17.9945, 17.9945, 17.9945, 17.9945, 17.9945, 17.9945, 17.9945, 17.9945, 17.9945, 17.9945, 17.9945, 17.9945, 17.9945, 17.9945, 17.9945, 17.9945, 17.9945, 17.9945, 17.9945, 17.9945, 17.9945, 17.9945, 17.9945, 17.9945, 17.9945, 17.9945, 17.9945, 17.9945, 17.9945, 17.9945, 17.9945, 17.9945, 17.9945, 17.9945, 17.9945]\n",
    "#data['y_pred_cpp'] = y_pred_cpp\n",
    "#flag_cpp = [1, 0, 0, 0, 0, 0, 0, 0, 0, 0, 0, 0, 0, 0, 0, 0, 0, 0, 0, 0, 0, 1, 1, 1, 1, 1, 0, 0, 0, 0, 0, 0, 1, 1, 1, 0, 0, 0, 0, 0, 0, 0, 0, 0, 0, 0, 0, 0, 0, 0, 0, 0, 0, 0, 0, 0, 0, 0, 0, 0, 0, 0, 0, 0, 0, 0, 0, 0, 0, 0, 0, 0, 0, 0, 0, 0, 0, 0, 0, 0, 0, 0, 0, 0, 0, 0, 0, 0, 0, 0, 0, 0, 0, 0, 0, 0, 0, 0, 0, 0, 0, 0, 0, 0, 0, 0, 0, 0, 0, 0, 0, 0, 0, 0, 0, 0, 0, 0, 0, 0, 0, 0, 0, 0, 0, 0, 0, 0, 0, 0, 0, 0, 0, 0, 0, 0, 0, 0, 0, 0, 0, 1, 1, 1, 0, 0, 0, 0, 0, 0, 0, 0, 0, 0, 0, 0, 0, 0, 0, 0, 0, 0, 0, 0, 0, 0, 0, 0, 0, 0, 0, 0, 0, 0, 0, 0, 0, 0, 0, 0, 0, 0, 0, 0, 0, 0, 0, 0, 0, 0, 0, 0, 0, 0, 0, 0, 0, 0]\n",
    "#data['flag_cpp'] = flag_cpp\n",
    "\n",
    "#31/08/2023\n",
    "flag_cpp = [1, 0, 0, 0, 0, 0, 0, 0, 0, 0, 0, 0, 0, 0, 0, 0, 0, 0, 0, 0, 0, 0, 0, 0, 0, 0, 0, 0, 0, 0, 0, 0, 0, 0, 0, 0, 0, 0, 0, 0, 0, 0, 0, 0, 0, 0, 0, 0, 0, 0, 0, 0, 0, 0, 0, 0, 0, 0, 0, 0, 0, 1, 1, 1, 0, 0, 0, 0, 0, 0, 0, 0, 0, 0, 0, 0, 0, 0, 0, 0, 0, 0, 0, 0, 0, 0, 0, 0, 0, 0, 0, 0, 0, 0, 0, 0, 0, 0, 0, 0, 0, 0, 0, 0, 0, 0, 0, 0, 0, 0, 0, 0, 0, 0, 0, 0, 0, 0, 0, 0, 0, 0, 0, 0, 0, 0, 0, 0, 0, 0, 0, 0, 0, 0, 0, 0, 0, 0, 0, 0, 0, 0, 0, 0, 0, 0, 0, 0, 0, 0, 0, 0, 0, 0, 0, 0, 0, 0, 0, 0, 0, 0, 0, 0, 0, 0, 0, 0, 0, 0, 0, 0, 0, 0, 0, 0, 0, 0, 0, 0, 0, 0, 0, 0, 0, 0, 0, 0, 0, 0, 0, 0, 0, 0, 0, 0, 0, 0, 0, 0, 0, 0, 0, 0, 0, 0, 0, 0, 0, 0, 0, 0, 0, 0, 0, 0, 0, 0, 0, 0, 0, 0, 0, 0, 0, 0, 0, 0, 0, 0, 0, 0, 0, 0, 0, 0, 0, 0, 0, 0, 0, 0, 0, 0, 0, 0, 0, 0, 0, 0, 0, 0, 0, 0, 0, 0, 0, 0, 0, 0, 0, 0, 0, 0, 0, 0, 0, 0, 0, 0, 0, 0, 0, 0, 0, 0, 0, 0, 0, 0, 0, 0, 0, 0, 0, 0, 0, 0, 0, 0, 0, 0, 0, 0, 0, 0, 0, 0, 0, 0, 0, 0, 0, 0, 0, 0, 0, 0, 0, 0, 0, 0, 0, 0, 0, 0, 0, 0, 0, 0, 0, 0, 0, 0, 0, 0, 0, 0, 0, 0, 0, 0, 0, 0, 0, 0, 0, 0, 0, 0, 0, 0, 0, 0, 0, 0, 0, 0, 0, 0, 0, 0, 0, 0, 0, 0, 0, 0, 0, 0, 0, 0, 0, 0, 0, 0, 0, 0, 0, 0, 0, 0, 0, 0, 0, 0, 0, 0, 0, 0, 0, 0, 0, 0, 0, 0, 0, 0, 0, 0, 0, 0, 0, 0, 0, 0, 0, 0, 0, 0, 0, 0, 0, 0, 0, 0, 0, 0, 0, 0, 0, 0, 0, 0, 0, 0, 0, 0, 0, 0, 0, 0, 0, 0, 0, 0, 0, 0, 0, 0, 0, 0, 0, 0, 0, 0, 0, 0, 0, 0, 0, 0, 0, 0, 0, 0, 0, 0, 0, 0, 0, 0, 0, 0, 0, 0, 0, 0, 0, 0, 0, 0, 0, 0, 0, 0, 0, 0, 0, 0, 0, 0, 0, 0, 0, 0, 0, 0, 0, 0, 0, 0, 0, 0, 0, 0, 0, 0, 0, 0, 0, 0, 0, 0, 0, 0, 0, 0, 0, 0, 0, 0, 0, 0, 0, 0, 0, 0, 0, 0, 0, 0, 0, 0, 0, 0, 0, 0, 0, 0, 0, 0, 0, 0, 0, 0, 0, 0, 0, 0, 0, 0, 0, 0, 0, 0, 0, 0, 0, 0, 0, 0, 0, 0, 0, 0, 0, 0, 0, 0, 0, 0, 0, 0, 0, 0, 0, 0, 0, 0, 0, 0, 0, 0, 0, 0, 0, 0, 0, 0, 0, 0, 0, 0, 0, 0, 0, 0, 0, 0, 0, 0, 0]\n",
    "y_pred_cpp = [0, 0, 0, 0, 0, 0, 0, 9.89749, 9.71748, 13.1121, 13.4187, 12.3972, 13.1406, 14.1788, 15.2086, 16.2325, 17.2522, 15.9851, 14.5721, 13.2803, 12.0593, 10.8839, 9.73973, 8.61801, 9.65942, 9.66699, 9.65363, 11.7833, 15.0369, 17.2716, 19.478, 20.6008, 20.5695, 21.5572, 22.6075, 22.5782, 22.4953, 22.4236, 21.2959, 19.0834, 15.8193, 12.5844, 8.35386, 5.19989, 3.11374, 3.11118, 5.18516, 7.26237, 9.34385, 10.3918, 9.3568, 6.23118, 6.21683, 7.25225, 8.29128, 11.4051, 15.5784, 18.7506, 22.9788, 27.2704, 31.6052, 33.4405, 35.3739, 37.4195, 39.1397, 37.0006, 32.5796, 25.0423, 17.5856, 15.423, 18.4828, 22.6179, 26.7829, 30.9731, 35.1889, 38.3911, 41.5701, 44.7534, 46.8964, 47.9471, 48.9484, 49.9501, 50.952, 51.9542, 52.9565, 53.959, 54.9615, 53.8914, 51.722, 49.5419, 48.4149, 48.3558, 49.353, 49.3457, 48.2884, 48.2398, 48.2151, 48.1916, 47.1443, 41.9852, 41.8922, 41.8803, 37.784, 29.5702, 20.3444, 19.2879, 23.344, 30.4646, 37.6158, 43.7792, 48.9409, 55.13, 60.3373, 65.5428, 70.7627, 74.9678, 77.0909, 76.0619, 71.8592, 68.6215, 63.3963, 61.2224, 61.1645, 62.164, 64.1997, 65.2333, 67.268, 72.3789, 76.5325, 76.587, 73.4902, 70.3396, 65.1686, 59.9867, 53.8147, 47.6569, 44.5618, 39.4758, 35.3985, 33.3566, 31.3263, 29.2977, 27.2707, 29.2842, 29.2888, 28.2781, 28.2745, 27.264, 25.2413, 25.236, 26.245, 28.2657, 30.2895, 30.2946, 30.2937, 31.3025, 33.3245, 33.3308, 34.3394, 36.3623, 37.3799, 35.3623, 31.3109, 23.218, 19.1623, 18.1474, 18.146, 21.1701, 27.2239, 32.28, 38.351, 43.427, 46.4875, 49.5396, 52.5951, 54.6421, 55.6687, 55.6724, 54.653, 53.6235, 52.5954, 48.5353, 45.4646, 44.4288, 40.3809, 36.3189, 30.2479, 22.1648, 17.113, 20.1251, 24.1542, 30.2009, 35.2516, 37.2848, 36.2848, 30.2323, 21.1458, 17.1013, 18.1017, 21.1198, 26.1532, 30.188, 34.2256, 38.2681, 40.3011, 42.3263, 42.3368, 39.3107, 36.2683, 34.2374, 34.2273, 34.2263, 36.2386, 39.2671, 43.3102, 46.3565, 49.4004, 50.4306, 50.4358, 51.4405, 51.4457, 53.4589, 55.4916, 55.5071, 53.4835, 50.4327, 49.3937, 47.3665, 45.3334, 42.2958, 41.2686, 41.2613, 40.2536, 35.2159, 32.1754, 27.1381, 27.1234, 31.1413, 35.1717, 40.2122, 44.2582, 45.2868, 48.311, 49.3374, 52.3636, 53.3934, 54.4064, 54.412, 54.4082, 54.4044, 55.408, 57.4287, 57.4442, 57.4397, 57.4354, 56.4235, 56.4098, 55.3988, 53.372, 51.3384, 49.3074, 45.267, 44.2345, 43.2223, 46.2307, 48.2571, 49.2738, 47.2673, 45.2417, 42.213, 40.1864, 39.1716, 40.1707, 38.1657, 33.1358, 26.0925, 21.0607, 19.0478, 18.0431, 17.0397, 14.0319, 10.0213, 6.01176, 4.00736, 6.01082, 11.0201, 14.0269, 13.0263, 12.0237, 10.0193, 11.0204, 13.0246, 16.0314, 16.0334, 15.0313, 15.0304, 17.0345, 21.0447, 25.059, 26.0688, 24.0655, 22.0559, 21.0497, 21.048, 21.0479, 21.0478, 21.0477, 21.0477, 21.0476, 21.0475, 20.0452, 20.0435, 21.0456, 22.0494, 25.058, 30.0771, 34.1036, 37.1296, 39.1515, 42.1743, 44.2016, 45.2194, 46.2304, 47.2417, 48.2532, 48.2597, 48.2574, 46.2446, 42.2064, 40.168, 39.1507, 38.1404, 39.1377, 36.1315, 31.0993, 23.0582, 18.0291, 15.0179, 15.0149, 19.0188, 23.0279, 27.0405, 29.0536, 30.0615, 32.069, 35.0833, 37.1014, 38.114, 40.1251, 42.143, 42.1551, 40.1467, 40.1328, 41.1353, 42.1441, 45.1605, 46.185, 47.1955, 48.2064, 47.2087, 46.1943, 45.1807, 42.1603, 39.1285, 38.1071, 39.1038, 42.1169, 43.1373, 43.1429, 43.142, 41.1345, 41.121, 40.1173, 42.1163, 44.1337, 46.1526, 47.1694, 47.1758, 47.1744, 47.1731, 49.1791, 50.1975, 51.2084, 52.2195, 53.2309, 53.2381, 54.2403, 56.2567, 57.2789, 58.2914, 55.2835, 49.2229, 46.1597, 46.1374, 48.1425, 51.1649, 53.1936, 54.2126, 56.2276, 57.2482, 59.2644, 61.2914, 61.3096, 62.3112, 61.3136, 58.2847, 53.2302, 47.1644, 41.1063, 35.063, 29.0324, 22.0118, 16.9995, 16.9943, 20.993, 26.9962, 33.0072, 38.0259, 42.0486, 46.0732, 49.1014, 52.1277, 55.1574, 56.1841, 56.1913, 57.193, 58.2038, 60.2184, 61.2395, 62.2513, 64.2673, 65.2903, 68.312, 70.3533, 71.3791, 71.387, 72.3875, 72.3953, 68.3686, 66.3077, 65.2788, 63.2578, 61.2288, 57.1953, 51.1449, 44.09, 35.043, 24.0079, 21.988, 22.985, 27.9832, 31.9893, 34.9975, 40.0061, 44.0248, 48.0451, 51.0689, 55.0926, 58.125, 59.1492, 59.156, 58.1521, 58.143, 56.137, 54.1168, 50.0946, 44.0611, 37.026, 28.0001, 18.9857, 14.9801, 19.97, 25.9656, 32.9656, 38.9761, 42.9939, 45.0103, 47.0204, 50.0323, 52.0509, 53.0642, 55.0729, 56.0878, 56.0945, 57.0955, 58.104, 57.109, 54.0952, 47.0638, 36.0173, 23.9831, 16.9712, 16.9647, 21.9543, 26.9494, 30.95, 34.9526, 38.9589, 42.9693, 46.9843, 50.0042, 51.0217, 51.0277, 51.0275, 49.0263, 49.0141, 52.0149, 54.0343, 55.0484, 56.0561, 56.063, 54.0603, 52.044, 50.0294, 50.0171, 51.0174, 52.0236, 51.029, 49.0218, 49.0102, 49.0101, 48.0099, 46.0042, 41.9946, 36.9796, 32.966, 28.9603, 26.9549, 30.9442, 36.9428, 40.9547, 42.9677, 42.9762, 41.9769, 39.974, 34.9703, 28.9617, 25.9527, 20.9574, 14.9649, 12.9656, 11.9674, 10.9698, 8.97502, 7.97736, 8.97432, 9.97168, 11.9663, 14.9587, 17.9522, 18.9518, 19.9503, 20.949, 21.9478, 22.9468, 22.9483, 22.9484, 21.9507, 22.947, 20.953, 17.9574, 13.9643, 11.9669, 10.9688, 10.9684, 11.9656, 12.9631, 17.9496, 20.9455, 22.9443, 22.9474, 20.952, 18.9539, 15.9591, 14.9589, 12.9637, 8.97402, 5.98166, 4.98427, 3.98733, 3.98727, 4.98408, 2.99049]\n",
    "data['y_pred_cpp'] = y_pred_cpp\n",
    "data['flag_cpp'] = flag_cpp"
   ]
  },
  {
   "cell_type": "markdown",
   "metadata": {},
   "source": [
    "## 2.4 Python data"
   ]
  },
  {
   "cell_type": "markdown",
   "metadata": {},
   "source": [
    "### 2.4.1 TEDA"
   ]
  },
  {
   "cell_type": "code",
   "execution_count": null,
   "metadata": {},
   "outputs": [],
   "source": [
    "teda = TEDA(threshold=3)\n",
    "FLAG = []"
   ]
  },
  {
   "cell_type": "markdown",
   "metadata": {},
   "source": [
    "### 2.4.2 RLS"
   ]
  },
  {
   "cell_type": "code",
   "execution_count": null,
   "metadata": {},
   "outputs": [],
   "source": [
    "filter_order = 2            #filter_order equivalent to window size\n",
    "forgetting_factor = 0.99    #Forgetting factor: It is introduced to give exponentially less weight to older error samples. It is usually chosen between 0.98 and 1.\n",
    "regularization_factor = 0.1 #It is usually chose between 0.1 and 1.\n",
    "w0 = [0.0, 0.0]                 #Initial weights\n",
    "X_ant = [0.0, 0.0]              #Initial previous input\n",
    "y_pred_py = 0.0               #Initial predicted value\n",
    "Y_py = []                   #Results\n",
    "\n",
    "rls_filter = RLSFilter(n = filter_order, mu = forgetting_factor, delta=regularization_factor, w=w0)"
   ]
  },
  {
   "cell_type": "markdown",
   "metadata": {},
   "source": [
    "#### Running:"
   ]
  },
  {
   "cell_type": "code",
   "execution_count": null,
   "metadata": {},
   "outputs": [],
   "source": [
    "#OK\n",
    "for i in data['x_atual']:\n",
    "    print(\"X_ant no inicio\", X_ant)\n",
    "    valor_atual = i\n",
    "    flag = teda.run(valor_atual)\n",
    "    print('x_ant: ', X_ant[1], 'x_atual: ', valor_atual)\n",
    "    print('flag =', flag)\n",
    "    \n",
    "    if (flag == 1):\n",
    "        valor_atual = y_pred_py\n",
    "    FLAG.append(flag)\n",
    "\n",
    "    vetor_de_entrada = []\n",
    "    for j in X_ant[1:]:\n",
    "        vetor_de_entrada.append(j)\n",
    "    vetor_de_entrada.append(valor_atual)\n",
    "    print(\"vetor de entrada usado para prever:\", vetor_de_entrada)\n",
    "\n",
    "    #vetor_de_entrada = [round(X_ant[1], 6), round(valor_atual, 6)]\n",
    "    y_pred_py = rls_filter.filter(vetor_de_entrada)\n",
    "    print(\"y_pred:\", y_pred_py)\n",
    "    Y_py.append(y_pred_py)\n",
    "\n",
    "    rls_filter.update(valor_atual, np.array(X_ant))\n",
    "\n",
    "    X_ant = vetor_de_entrada\n",
    "    print(\"X_ant no final\", X_ant)\n",
    "    print(\"___________\")\n",
    "\n",
    "data['y_pred_py'] = Y_py\n",
    "data['flag_py'] = FLAG"
   ]
  },
  {
   "cell_type": "markdown",
   "metadata": {},
   "source": [
    "#OK\n",
    "for i in data['x_atual']:\n",
    "    print(\"X_ant no inicio\", X_ant)\n",
    "    valor_atual = i\n",
    "    flag = teda.run(valor_atual)\n",
    "    print('x_ant: ', X_ant[1], 'x_atual: ', valor_atual)\n",
    "    print('flag =', flag)\n",
    "    \n",
    "    if (flag == 1):\n",
    "        valor_atual = y_pred_py\n",
    "    FLAG.append(flag)\n",
    "\n",
    "    vetor_de_entrada = []\n",
    "    for j in X_ant[1:]:\n",
    "        vetor_de_entrada.append(j)\n",
    "    vetor_de_entrada.append(valor_atual)\n",
    "    print(\"vetor de entrada usado para prever:\", vetor_de_entrada)\n",
    "\n",
    "    #vetor_de_entrada = [round(X_ant[1], 6), round(valor_atual, 6)]\n",
    "    y_pred_py = rls_filter.filter(vetor_de_entrada)\n",
    "    print(\"y_pred:\", y_pred_py)\n",
    "    y_pred_py = round(y_pred_py, 5)\n",
    "    print(\"y_pred pos round:\", y_pred_py)\n",
    "    Y_py.append(y_pred_py)\n",
    "\n",
    "    rls_filter.update(valor_atual, np.array(X_ant))\n",
    "\n",
    "    X_ant = vetor_de_entrada\n",
    "    print(\"X_ant no final\", X_ant)\n",
    "    print(\"___________\")\n",
    "\n",
    "data['y_pred_py'] = Y_py\n",
    "data['flag_py'] = FLAG"
   ]
  },
  {
   "cell_type": "markdown",
   "metadata": {},
   "source": [
    "for i in data['x_atual']:\n",
    "    print(\"X_ant no inicio\", X_ant)\n",
    "    valor_atual = i\n",
    "    valor_atual = round(valor_atual, 5)\n",
    "    flag = teda.run(valor_atual)\n",
    "    print('x_ant: ', X_ant[1], 'x_atual: ', valor_atual)\n",
    "    print('flag =', flag)\n",
    "    \n",
    "    if (flag == 1):\n",
    "        valor_atual = y_pred_py\n",
    "    FLAG.append(flag)\n",
    "\n",
    "    vetor_de_entrada = []\n",
    "    for j in X_ant[1:]:\n",
    "        vetor_de_entrada.append(j)\n",
    "    vetor_de_entrada.append(valor_atual)\n",
    "    print(\"vetor de entrada:\", vetor_de_entrada)\n",
    "\n",
    "    #vetor_de_entrada = [round(X_ant[1], 6), round(valor_atual, 6)]\n",
    "    y_pred_py = rls_filter.filter(vetor_de_entrada)\n",
    "    print(\"y_pred:\", y_pred_py)\n",
    "    y_pred_py = round(y_pred_py, 5)\n",
    "    print(\"y_pred pos round:\", y_pred_py)\n",
    "    Y_py.append(y_pred_py)\n",
    "    \n",
    "    rls_filter.update(valor_atual, np.array(X_ant))\n",
    "\n",
    "    X_ant = vetor_de_entrada\n",
    "    print(\"X_ant no final\", X_ant)\n",
    "    print(\"___________\")\n",
    "\n",
    "data['y_pred_py'] = Y_py\n",
    "data['flag_py'] = FLAG"
   ]
  },
  {
   "cell_type": "markdown",
   "metadata": {},
   "source": [
    "#Round\n",
    "\n",
    "for i in data['x_atual']:\n",
    "    valor_atual = i\n",
    "    valor_atual = round(valor_atual, 5)\n",
    "    flag = teda.run(valor_atual)\n",
    "    #print('x_ant: ', X_ant[1], 'x_atual: ', valor_atual)\n",
    "    \n",
    "    if (flag == 1):\n",
    "        valor_atual = y_pred_py\n",
    "    FLAG.append(flag)\n",
    "\n",
    "    vetor_de_entrada = []\n",
    "    for j in X_ant[1:]:\n",
    "        vetor_de_entrada.append(j)\n",
    "    vetor_de_entrada.append(valor_atual)    \n",
    "\n",
    "    vetor_de_entrada = [round(X_ant[1], 5), round(valor_atual, 5)]\n",
    "    y_pred_py = rls_filter.filter(vetor_de_entrada)\n",
    "    y_pred_py = round(y_pred_py, 5)\n",
    "    Y_py.append(y_pred_py)\n",
    "    \n",
    "\n",
    "    rls_filter.update(valor_atual, np.array(X_ant))\n",
    "\n",
    "    X_ant = vetor_de_entrada\n",
    "\n",
    "data['y_pred_py'] = Y_py\n",
    "data['flag_py'] = FLAG"
   ]
  },
  {
   "cell_type": "markdown",
   "metadata": {},
   "source": [
    "# 3. Results"
   ]
  },
  {
   "cell_type": "markdown",
   "metadata": {},
   "source": [
    "## 3.1 TEDA"
   ]
  },
  {
   "cell_type": "markdown",
   "metadata": {},
   "source": [
    "#### 3.1.1 Freematics"
   ]
  },
  {
   "cell_type": "code",
   "execution_count": null,
   "metadata": {},
   "outputs": [],
   "source": [
    "numberOfOutliersFreematics = data['flag'].sum()\n",
    "numberOfOutliersFreematics"
   ]
  },
  {
   "cell_type": "code",
   "execution_count": null,
   "metadata": {},
   "outputs": [],
   "source": [
    "def find_indices(list_to_check, item_to_find):\n",
    "    indices = []\n",
    "    for idx, value in enumerate(list_to_check):\n",
    "        if value == item_to_find:\n",
    "            indices.append(idx)\n",
    "    return indices"
   ]
  },
  {
   "cell_type": "code",
   "execution_count": null,
   "metadata": {},
   "outputs": [],
   "source": [
    "outliersIndexFreematics = find_indices(data['flag'], 1)\n",
    "outliersIndexFreematics"
   ]
  },
  {
   "cell_type": "code",
   "execution_count": null,
   "metadata": {},
   "outputs": [],
   "source": [
    "plt.figure(figsize=(20,10))\n",
    "plt.grid()\n",
    "plt.title(\"Freematics - Curve with Outliers Detected\", fontsize=18)\n",
    "sns.scatterplot(x=t_samples, y=data['x_atual'], hue=data['flag'], style=data['flag'], size=data['flag'], sizes=(150, 100))\n",
    "plt.ylabel(\"Speed (m/s)\", fontsize=16)\n",
    "plt.xlabel(\"Samples\", fontsize=16)\n",
    "plt.xticks(fontsize=15)\n",
    "plt.yticks(fontsize=15)\n",
    "plt.show()"
   ]
  },
  {
   "cell_type": "markdown",
   "metadata": {},
   "source": [
    "#### 3.1.2 C++"
   ]
  },
  {
   "cell_type": "code",
   "execution_count": null,
   "metadata": {},
   "outputs": [],
   "source": [
    "numberOfOutliersCpp = data['flag_cpp'].sum()\n",
    "numberOfOutliersCpp"
   ]
  },
  {
   "cell_type": "code",
   "execution_count": null,
   "metadata": {},
   "outputs": [],
   "source": [
    "outliersIndexCpp = find_indices(data['flag_cpp'], 1)\n",
    "outliersIndexCpp"
   ]
  },
  {
   "cell_type": "code",
   "execution_count": null,
   "metadata": {},
   "outputs": [],
   "source": [
    "plt.figure(figsize=(20,10))\n",
    "plt.grid()\n",
    "plt.title(\"C++ - Curve with Outliers Detected\", fontsize=18)\n",
    "sns.scatterplot(x=t_samples, y=data['x_atual'], hue=data['flag_cpp'], style=data['flag_cpp'], size=data['flag_cpp'], sizes=(150, 100))\n",
    "plt.ylabel(\"Speed (m/s)\", fontsize=16)\n",
    "plt.xlabel(\"Samples\", fontsize=16)\n",
    "plt.xticks(fontsize=15)\n",
    "plt.yticks(fontsize=15)\n",
    "plt.show()"
   ]
  },
  {
   "cell_type": "markdown",
   "metadata": {},
   "source": [
    "#### Python"
   ]
  },
  {
   "cell_type": "code",
   "execution_count": null,
   "metadata": {},
   "outputs": [],
   "source": [
    "numberOfOutliersPython = data['flag_py'].sum()\n",
    "numberOfOutliersPython"
   ]
  },
  {
   "cell_type": "code",
   "execution_count": null,
   "metadata": {},
   "outputs": [],
   "source": [
    "outliersIndexPython = find_indices(data['flag_py'], 1)\n",
    "outliersIndexPython"
   ]
  },
  {
   "cell_type": "code",
   "execution_count": null,
   "metadata": {},
   "outputs": [],
   "source": [
    "plt.figure(figsize=(20,10))\n",
    "plt.grid()\n",
    "plt.title(\"Python - Curve with Outliers Detected\", fontsize=18)\n",
    "sns.scatterplot(x=t_samples, y=data['x_atual'], hue=data['flag_py'], style=data['flag_py'], size=data['flag_py'], sizes=(150, 100))\n",
    "plt.ylabel(\"Speed (m/s)\", fontsize=16)\n",
    "plt.xlabel(\"Samples\", fontsize=16)\n",
    "plt.xticks(fontsize=15)\n",
    "plt.yticks(fontsize=15)\n",
    "plt.show()"
   ]
  },
  {
   "cell_type": "markdown",
   "metadata": {},
   "source": [
    "## 3.2 RLS"
   ]
  },
  {
   "cell_type": "markdown",
   "metadata": {},
   "source": [
    "### 3.2.1 Visualization"
   ]
  },
  {
   "cell_type": "code",
   "execution_count": null,
   "metadata": {},
   "outputs": [],
   "source": [
    "plt.figure(figsize=(20,10))\n",
    "plt.grid()\n",
    "plt.title(\"Comparison\", fontsize=18)\n",
    "sns.scatterplot(x=t_samples, y=data['x_atual'].values, s=100, label='True')\n",
    "#sns.scatterplot(x=t_samples, y=data['y_pred'].values, s=100, label='Freematics')\n",
    "#sns.scatterplot(x=t_samples, y=data['y_pred_cpp'].values, s=100, label='Cpp')\n",
    "sns.scatterplot(x=t_samples, y=data['y_pred_py'].values, s=100, label='Python')\n",
    "plt.ylabel(\"Y pred\", fontsize=16)\n",
    "plt.xlabel(\"t(s)\", fontsize=16)\n",
    "plt.legend(fontsize=20)\n",
    "plt.xticks(fontsize=15)\n",
    "plt.yticks(fontsize=15)\n",
    "plt.show()"
   ]
  },
  {
   "cell_type": "code",
   "execution_count": null,
   "metadata": {},
   "outputs": [],
   "source": [
    "figure = make_subplots(specs=[[{\"secondary_y\": True}]])\n",
    "\n",
    "figure.update_layout(\n",
    "    title=\"Comparison \"\n",
    ")\n",
    "\n",
    "figure.add_trace(\n",
    "    go.Scatter(x=t_samples, y=data['x_atual'], name='True'),\n",
    "    secondary_y=False\n",
    ")\n",
    "\n",
    "figure.add_trace(\n",
    "    go.Scatter(x=t_samples, y=data['y_pred'], name='Freematics'),\n",
    "    secondary_y=False\n",
    ")\n",
    "\n",
    "figure.add_trace(\n",
    "    go.Scatter(x=t_samples, y=data['y_pred_py'], name='Python'),\n",
    "    secondary_y=False\n",
    ")\n",
    "\n",
    "figure.add_trace(\n",
    "    go.Scatter(x=t_samples, y=data['y_pred_cpp'], name='C++'),\n",
    "    secondary_y=False\n",
    ")\n",
    "\n",
    "figure.update_xaxes(title='Time (s)')\n",
    "\n",
    "figure.update_yaxes(title='Speed (m/s)', secondary_y=False)\n",
    "\n",
    "figure.show()"
   ]
  },
  {
   "cell_type": "code",
   "execution_count": null,
   "metadata": {},
   "outputs": [],
   "source": [
    "data[['x_atual', 'y_pred', 'y_pred_cpp', 'y_pred_py']].head(30)"
   ]
  },
  {
   "cell_type": "code",
   "execution_count": null,
   "metadata": {},
   "outputs": [],
   "source": [
    "data[['x_atual', 'y_pred', 'y_pred_cpp', 'y_pred_py']].tail(30)"
   ]
  },
  {
   "cell_type": "markdown",
   "metadata": {},
   "source": [
    "### 3.2.2 Metrics"
   ]
  },
  {
   "cell_type": "code",
   "execution_count": null,
   "metadata": {},
   "outputs": [],
   "source": [
    "from sklearn.metrics import mean_squared_error, mean_absolute_error\n"
   ]
  },
  {
   "cell_type": "markdown",
   "metadata": {},
   "source": [
    "#### 3.2.2.1 Mean Squared Error (MSE)"
   ]
  },
  {
   "cell_type": "code",
   "execution_count": null,
   "metadata": {},
   "outputs": [],
   "source": [
    "start = 3"
   ]
  },
  {
   "cell_type": "code",
   "execution_count": null,
   "metadata": {},
   "outputs": [],
   "source": [
    "mse_freematics = mean_squared_error(data['x_atual'].iloc[start:], data['y_pred'].iloc[start:])\n",
    "#mse_arduino = mean_squared_error(data['x_atual'], data['y_pred_ar'])\n",
    "mse_cpp = mean_squared_error(data['x_atual'].iloc[start:], data['y_pred_cpp'].iloc[start:])\n",
    "mse_python = mean_squared_error(data['x_atual'].iloc[start:], data['y_pred_py'].iloc[start:])\n",
    "MSE = [mse_freematics, mse_cpp, mse_python]\n",
    "label = [\"Freematics\", \"C++\", \"Python\"]\n"
   ]
  },
  {
   "cell_type": "code",
   "execution_count": null,
   "metadata": {},
   "outputs": [],
   "source": [
    "fig, ax = plt.subplots(figsize = (15,7.7))\n",
    "p1 = ax.bar(label, MSE)\n",
    "\n",
    "plt.xlabel(\"Code Language\", fontsize=20)\n",
    "plt.ylabel(\"MSE\", fontsize=20)\n",
    "plt.xticks(fontsize=15)\n",
    "plt.yticks(fontsize=15)\n",
    "\n",
    "plt.bar_label(p1, label_type='center', fmt='%.1f', fontsize=12)\n",
    "\n",
    "#plt.savefig('C:/Users/Samsung/Google Drive/UFRN/Artigos/UFRN/Sensors CO2/Datasets/Junho/Ida/Figures/co2km.eps', format='eps')#, bbox_inches='tight')"
   ]
  },
  {
   "cell_type": "markdown",
   "metadata": {},
   "source": [
    "### 3.2.2 Root Mean Squared Error (RMSE)"
   ]
  },
  {
   "cell_type": "code",
   "execution_count": null,
   "metadata": {},
   "outputs": [],
   "source": [
    "rmse_freematics = mean_squared_error(data['x_atual'].iloc[start:], data['y_pred'].iloc[start:], squared=False)\n",
    "#rmse_arduino = mean_squared_error(data['x_atual'], data['y_pred_ar'])\n",
    "rmse_cpp = mean_squared_error(data['x_atual'].iloc[start:], data['y_pred_cpp'].iloc[start:], squared=False)\n",
    "rmse_python = mean_squared_error(data['x_atual'].iloc[start:], data['y_pred_py'].iloc[start:], squared=False)\n",
    "RMSE = [rmse_freematics, rmse_cpp, rmse_python]\n",
    "label = [\"Freematics\", \"C++\", \"Python\"]"
   ]
  },
  {
   "cell_type": "code",
   "execution_count": null,
   "metadata": {},
   "outputs": [],
   "source": [
    "fig, ax = plt.subplots(figsize = (15,7.7))\n",
    "p1 = ax.bar(label, RMSE)\n",
    "\n",
    "plt.xlabel(\"Code Language\", fontsize=20)\n",
    "plt.ylabel(\"RMSE\", fontsize=20)\n",
    "plt.xticks(fontsize=15)\n",
    "plt.yticks(fontsize=15)\n",
    "\n",
    "ax.bar_label(p1, label_type='center', fmt='%.1f', fontsize=12)\n",
    "\n",
    "#plt.savefig('C:/Users/Samsung/Google Drive/UFRN/Artigos/UFRN/Sensors CO2/Datasets/Junho/Ida/Figures/co2km.eps', format='eps')#, bbox_inches='tight')"
   ]
  },
  {
   "cell_type": "markdown",
   "metadata": {},
   "source": [
    "### 3.2.3 Mean Absolute Error (MAE)\n",
    "MAE = abs(Y_pred - Y_true)"
   ]
  },
  {
   "cell_type": "code",
   "execution_count": null,
   "metadata": {},
   "outputs": [],
   "source": [
    "mae_freematics = mean_absolute_error(data['x_atual'].iloc[start:], data['y_pred'].iloc[start:])\n",
    "#mae_arduino = mean_absolute_error(data['x_atual'], data['y_pred_ar'])\n",
    "mae_cpp = mean_absolute_error(data['x_atual'].iloc[start:], data['y_pred_cpp'].iloc[start:])\n",
    "mae_python = mean_absolute_error(data['x_atual'].iloc[start:], data['y_pred_py'].iloc[start:])\n",
    "MAE = [mae_freematics, mae_cpp, mae_python]\n",
    "label = [\"Freematics\", \"C++\", \"Python\"]"
   ]
  },
  {
   "cell_type": "code",
   "execution_count": null,
   "metadata": {},
   "outputs": [],
   "source": [
    "fig, ax = plt.subplots(figsize = (15,7.7))\n",
    "p1 = ax.bar(label, MAE)\n",
    "\n",
    "plt.xlabel(\"Code Language\", fontsize=20)\n",
    "plt.ylabel(\"MAE\", fontsize=20)\n",
    "plt.xticks(fontsize=15)\n",
    "plt.yticks(fontsize=15)\n",
    "\n",
    "ax.bar_label(p1, label_type='center', fmt='%.1f', fontsize=12)\n",
    "\n",
    "#plt.savefig('C:/Users/Samsung/Google Drive/UFRN/Artigos/UFRN/Sensors CO2/Datasets/Junho/Ida/Figures/co2km.eps', format='eps')#, bbox_inches='tight')"
   ]
  },
  {
   "cell_type": "markdown",
   "metadata": {},
   "source": [
    "#Resultados do Artigo\n",
    "- Profile do código\n",
    "- Quanto custa rodar TEDA e o RLS?\n",
    "- t_wall = t_teda + t_rls\n",
    "- Trajeto do anel viário (3 voltas) - 583 amostras x2\n",
    "- 1o experimento: Velocidade com 3 voltas no anel viário\n",
    "- 2o experimento: acelerometro em trajeto com mais de um tipo de pavimento (1s e <500ms>)\n",
    "- 3o experimento: 2 instancias rodando ao mesmo tempo (t_wall para instância)\n",
    "\n"
   ]
  },
  {
   "cell_type": "code",
   "execution_count": null,
   "metadata": {},
   "outputs": [],
   "source": []
  },
  {
   "cell_type": "code",
   "execution_count": null,
   "metadata": {},
   "outputs": [],
   "source": []
  }
 ],
 "metadata": {
  "colab": {
   "authorship_tag": "ABX9TyNLZCZpHdSXWy2xeKwk3pD0",
   "collapsed_sections": [],
   "name": "TesteFree_CO2.ipynb",
   "provenance": [],
   "toc_visible": true
  },
  "kernelspec": {
   "display_name": "Python 3.8.5 ('base')",
   "language": "python",
   "name": "python3"
  },
  "language_info": {
   "codemirror_mode": {
    "name": "ipython",
    "version": 3
   },
   "file_extension": ".py",
   "mimetype": "text/x-python",
   "name": "python",
   "nbconvert_exporter": "python",
   "pygments_lexer": "ipython3",
   "version": "3.8.5"
  },
  "vscode": {
   "interpreter": {
    "hash": "33bea494317c8c22a4760028ceed23349c4667bf8f6d1305a13b8d31b6e7f27d"
   }
  }
 },
 "nbformat": 4,
 "nbformat_minor": 1
}
